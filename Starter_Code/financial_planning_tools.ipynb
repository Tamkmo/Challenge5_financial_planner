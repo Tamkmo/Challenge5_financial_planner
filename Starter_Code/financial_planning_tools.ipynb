{
 "cells": [
  {
   "cell_type": "markdown",
   "metadata": {},
   "source": [
    "# Financial Planning with APIs and Simulations\n",
    "\n",
    "In this Challenge, you’ll create two financial analysis tools by using a single Jupyter notebook:\n",
    "\n",
    "Part 1: A financial planner for emergencies. The members will be able to use this tool to visualize their current savings. The members can then determine if they have enough reserves for an emergency fund.\n",
    "\n",
    "Part 2: A financial planner for retirement. This tool will forecast the performance of their retirement portfolio in 30 years. To do this, the tool will make an Alpaca API call via the Alpaca SDK to get historical price data for use in Monte Carlo simulations.\n",
    "\n",
    "You’ll use the information from the Monte Carlo simulation to answer questions about the portfolio in your Jupyter notebook.\n",
    "\n"
   ]
  },
  {
   "cell_type": "code",
   "execution_count": 1,
   "metadata": {},
   "outputs": [],
   "source": [
    "# Import the required libraries and dependencies\n",
    "import os\n",
    "import requests\n",
    "import json\n",
    "import pandas as pd\n",
    "from dotenv import load_dotenv\n",
    "import alpaca_trade_api as tradeapi\n",
    "from MCForecastTools import MCSimulation\n",
    "\n",
    "%matplotlib inline"
   ]
  },
  {
   "cell_type": "code",
   "execution_count": 2,
   "metadata": {},
   "outputs": [
    {
     "data": {
      "text/plain": [
       "True"
      ]
     },
     "execution_count": 2,
     "metadata": {},
     "output_type": "execute_result"
    }
   ],
   "source": [
    "# Load the environment variables from the .env file\n",
    "#by calling the load_dotenv function\n",
    "load_dotenv()"
   ]
  },
  {
   "cell_type": "code",
   "execution_count": 3,
   "metadata": {},
   "outputs": [
    {
     "data": {
      "text/plain": [
       "str"
      ]
     },
     "metadata": {},
     "output_type": "display_data"
    },
    {
     "data": {
      "text/plain": [
       "str"
      ]
     },
     "metadata": {},
     "output_type": "display_data"
    }
   ],
   "source": [
    "#check that env values were imported correctly by evaluating type of each\n",
    "alpaca_api_key = os.getenv(\"ALPACA_API_KEY\")\n",
    "alpaca_secret_key = os.getenv(\"ALPACA_SECRET_KEY\")\n",
    "\n",
    "display(type(alpaca_api_key))\n",
    "display(type(alpaca_secret_key))"
   ]
  },
  {
   "cell_type": "markdown",
   "metadata": {},
   "source": [
    "## Part 1: Create a Financial Planner for Emergencies"
   ]
  },
  {
   "cell_type": "markdown",
   "metadata": {},
   "source": [
    "### Evaluate the Cryptocurrency Wallet by Using the Requests Library\n",
    "\n",
    "In this section, you’ll determine the current value of a member’s cryptocurrency wallet. You’ll collect the current prices for the Bitcoin and Ethereum cryptocurrencies by using the Python Requests library. For the prototype, you’ll assume that the member holds the 1.2 Bitcoins (BTC) and 5.3 Ethereum coins (ETH). To do all this, complete the following steps:\n",
    "\n",
    "1. Create a variable named `monthly_income`, and set its value to `12000`.\n",
    "\n",
    "2. Use the Requests library to get the current price (in US dollars) of Bitcoin (BTC) and Ethereum (ETH) by using the API endpoints that the starter code supplies.\n",
    "\n",
    "3. Navigate the JSON response object to access the current price of each coin, and store each in a variable.\n",
    "\n",
    "    > **Hint** Note the specific identifier for each cryptocurrency in the API JSON response. The Bitcoin identifier is `1`, and the Ethereum identifier is `1027`.\n",
    "\n",
    "4. Calculate the value, in US dollars, of the current amount of each cryptocurrency and of the entire cryptocurrency wallet.\n",
    "\n"
   ]
  },
  {
   "cell_type": "code",
   "execution_count": 4,
   "metadata": {},
   "outputs": [],
   "source": [
    "# The current number of coins for each cryptocurrency asset held in the portfolio.\n",
    "btc_coins = 1.2\n",
    "eth_coins = 5.3"
   ]
  },
  {
   "cell_type": "markdown",
   "metadata": {},
   "source": [
    "#### Step 1: Create a variable named `monthly_income`, and set its value to `12000`."
   ]
  },
  {
   "cell_type": "code",
   "execution_count": 5,
   "metadata": {},
   "outputs": [],
   "source": [
    "# The monthly amount for the member's household income\n",
    "monthly_income = 12000\n"
   ]
  },
  {
   "cell_type": "markdown",
   "metadata": {},
   "source": [
    "#### Review the endpoint URLs for the API calls to Free Crypto API in order to get the current pricing information for both BTC and ETH."
   ]
  },
  {
   "cell_type": "code",
   "execution_count": 6,
   "metadata": {},
   "outputs": [],
   "source": [
    "# The Free Crypto API Call endpoint URLs for the held cryptocurrency assets\n",
    "btc_url = \"https://api.alternative.me/v2/ticker/Bitcoin/?convert=USD\"\n",
    "eth_url = \"https://api.alternative.me/v2/ticker/Ethereum/?convert=USD\""
   ]
  },
  {
   "cell_type": "markdown",
   "metadata": {},
   "source": [
    "#### Step 2. Use the Requests library to get the current price (in US dollars) of Bitcoin (BTC) and Ethereum (ETH) by using the API endpoints that the starter code supplied."
   ]
  },
  {
   "cell_type": "code",
   "execution_count": 7,
   "metadata": {},
   "outputs": [],
   "source": [
    "#create API call using REST object\n",
    "alpaca = tradeapi.REST(\n",
    "        alpaca_api_key,\n",
    "        alpaca_secret_key,\n",
    "        api_version=\"v2\")"
   ]
  },
  {
   "cell_type": "code",
   "execution_count": 10,
   "metadata": {},
   "outputs": [
    {
     "name": "stdout",
     "output_type": "stream",
     "text": [
      "{\n",
      "    \"data\": {\n",
      "        \"1\": {\n",
      "            \"circulating_supply\": 18923862,\n",
      "            \"id\": 1,\n",
      "            \"last_updated\": 1641703260,\n",
      "            \"max_supply\": 21000000,\n",
      "            \"name\": \"Bitcoin\",\n",
      "            \"quotes\": {\n",
      "                \"USD\": {\n",
      "                    \"market_cap\": 797770509131,\n",
      "                    \"percent_change_1h\": 0.310679366476225,\n",
      "                    \"percent_change_24h\": 0.651837396079046,\n",
      "                    \"percent_change_7d\": -11.8669751412264,\n",
      "                    \"percentage_change_1h\": 0.310679366476225,\n",
      "                    \"percentage_change_24h\": 0.651837396079046,\n",
      "                    \"percentage_change_7d\": -11.8669751412264,\n",
      "                    \"price\": 42142.0,\n",
      "                    \"volume_24h\": 23595126163\n",
      "                }\n",
      "            },\n",
      "            \"rank\": 1,\n",
      "            \"symbol\": \"BTC\",\n",
      "            \"total_supply\": 18923862,\n",
      "            \"website_slug\": \"bitcoin\"\n",
      "        }\n",
      "    },\n",
      "    \"metadata\": {\n",
      "        \"error\": null,\n",
      "        \"num_cryptocurrencies\": 3105,\n",
      "        \"timestamp\": 1641703260\n",
      "    }\n",
      "}\n"
     ]
    }
   ],
   "source": [
    "# Using the Python requests library, make an API call to access the current price of BTC\n",
    "btc_response = requests.get(btc_url).json()\n",
    "\n",
    "# Use the json.dumps function to review the response data from the API call\n",
    "# Use the indent and sort_keys parameters to make the response object readable\n",
    "print(json.dumps(btc_response, indent=4, sort_keys=True))\n"
   ]
  },
  {
   "cell_type": "code",
   "execution_count": 11,
   "metadata": {},
   "outputs": [
    {
     "name": "stdout",
     "output_type": "stream",
     "text": [
      "{\n",
      "    \"data\": {\n",
      "        \"1027\": {\n",
      "            \"circulating_supply\": 119083785,\n",
      "            \"id\": 1027,\n",
      "            \"last_updated\": 1641703367,\n",
      "            \"max_supply\": 0,\n",
      "            \"name\": \"Ethereum\",\n",
      "            \"quotes\": {\n",
      "                \"USD\": {\n",
      "                    \"market_cap\": 374608336172,\n",
      "                    \"percent_change_1h\": 0.226001782770819,\n",
      "                    \"percent_change_24h\": -2.51132812267938,\n",
      "                    \"percent_change_7d\": -16.8074567519638,\n",
      "                    \"percentage_change_1h\": 0.226001782770819,\n",
      "                    \"percentage_change_24h\": -2.51132812267938,\n",
      "                    \"percentage_change_7d\": -16.8074567519638,\n",
      "                    \"price\": 3144.94,\n",
      "                    \"volume_24h\": 16182017044\n",
      "                }\n",
      "            },\n",
      "            \"rank\": 2,\n",
      "            \"symbol\": \"ETH\",\n",
      "            \"total_supply\": 119083785,\n",
      "            \"website_slug\": \"ethereum\"\n",
      "        }\n",
      "    },\n",
      "    \"metadata\": {\n",
      "        \"error\": null,\n",
      "        \"num_cryptocurrencies\": 3105,\n",
      "        \"timestamp\": 1641703367\n",
      "    }\n",
      "}\n"
     ]
    }
   ],
   "source": [
    "# Using the Python requests library, make an API call to access the current price ETH\n",
    "eth_response = requests.get(eth_url).json()\n",
    "\n",
    "# Use the json.dumps function to review the response data from the API call\n",
    "# Use the indent and sort_keys parameters to make the response object readable\n",
    "print(json.dumps(eth_response, indent=4, sort_keys=True))\n"
   ]
  },
  {
   "cell_type": "markdown",
   "metadata": {},
   "source": [
    "#### Step 3: Navigate the JSON response object to access the current price of each coin, and store each in a variable."
   ]
  },
  {
   "cell_type": "code",
   "execution_count": 12,
   "metadata": {},
   "outputs": [
    {
     "name": "stdout",
     "output_type": "stream",
     "text": [
      "The symbol for Bitcoin is BTC\n",
      "The price for Bitcoin is $42142.0\n"
     ]
    }
   ],
   "source": [
    "# Navigate the BTC response object to access the current price of BTC\n",
    "btc_price = btc_response['data']['1']['quotes']['USD']['price']\n",
    "\n",
    "# Get symbol\n",
    "btc_symbol = btc_response['data']['1']['symbol']\n",
    "print(f\"The symbol for Bitcoin is {btc_symbol}\")\n",
    "\n",
    "# Print the current price of BTC\n",
    "print(f\"The price for Bitcoin is ${btc_price}\")\n"
   ]
  },
  {
   "cell_type": "code",
   "execution_count": 13,
   "metadata": {},
   "outputs": [
    {
     "name": "stdout",
     "output_type": "stream",
     "text": [
      "The symbol for Ethereum is ETH\n",
      "The price for Ethereum is $3144.94\n"
     ]
    }
   ],
   "source": [
    "# Navigate the BTC response object to access the current price of ETH\n",
    "eth_price = eth_response['data']['1027']['quotes']['USD']['price']\n",
    "\n",
    "# Get symbol\n",
    "eth_symbol = eth_response['data']['1027']['symbol']\n",
    "print(f\"The symbol for Ethereum is {eth_symbol}\")\n",
    "\n",
    "# Print the current price of ETH\n",
    "print(f\"The price for Ethereum is ${eth_price}\")\n"
   ]
  },
  {
   "cell_type": "markdown",
   "metadata": {},
   "source": [
    "### Step 4: Calculate the value, in US dollars, of the current amount of each cryptocurrency and of the entire cryptocurrency wallet."
   ]
  },
  {
   "cell_type": "code",
   "execution_count": 14,
   "metadata": {},
   "outputs": [
    {
     "name": "stdout",
     "output_type": "stream",
     "text": [
      "The current value of the BTC holding is $50570.4\n"
     ]
    }
   ],
   "source": [
    "# Compute the current value of the BTC holding \n",
    "btc_value = btc_coins * btc_price\n",
    "\n",
    "# Print current value of your holding in BTC\n",
    "print(f\"The current value of the BTC holding is ${btc_value}\")\n"
   ]
  },
  {
   "cell_type": "code",
   "execution_count": 15,
   "metadata": {},
   "outputs": [
    {
     "name": "stdout",
     "output_type": "stream",
     "text": [
      "The current value of ETH holding is $16668.182\n"
     ]
    }
   ],
   "source": [
    "# Compute the current value of the ETH holding \n",
    "eth_value = eth_coins * eth_price\n",
    "\n",
    "# Print current value of your holding in ETH\n",
    "print(f\"The current value of ETH holding is ${eth_value}\")\n"
   ]
  },
  {
   "cell_type": "code",
   "execution_count": 16,
   "metadata": {},
   "outputs": [
    {
     "name": "stdout",
     "output_type": "stream",
     "text": [
      "The total value of the cryptocurreny wallet is $67238.582\n"
     ]
    }
   ],
   "source": [
    "# Compute the total value of the cryptocurrency wallet\n",
    "# Add the value of the BTC holding to the value of the ETH holding\n",
    "total_crypto_wallet = btc_value + eth_value\n",
    "\n",
    "# Print current cryptocurrency wallet balance\n",
    "print(f\"The total value of the cryptocurreny wallet is ${total_crypto_wallet}\")\n"
   ]
  },
  {
   "cell_type": "markdown",
   "metadata": {},
   "source": [
    "### Evaluate the Stock and Bond Holdings by Using the Alpaca SDK\n",
    "\n",
    "In this section, you’ll determine the current value of a member’s stock and bond holdings. You’ll make an API call to Alpaca via the Alpaca SDK to get the current closing prices of the SPDR S&P 500 ETF Trust (ticker: SPY) and of the iShares Core US Aggregate Bond ETF (ticker: AGG). For the prototype, assume that the member holds 110 shares of SPY, which represents the stock portion of their portfolio, and 200 shares of AGG, which represents the bond portion. To do all this, complete the following steps:\n",
    "\n",
    "1. In the `Starter_Code` folder, create an environment file (`.env`) to store the values of your Alpaca API key and Alpaca secret key.\n",
    "\n",
    "2. Set the variables for the Alpaca API and secret keys. Using the Alpaca SDK, create the Alpaca `tradeapi.REST` object. In this object, include the parameters for the Alpaca API key, the secret key, and the version number.\n",
    "\n",
    "3. Set the following parameters for the Alpaca API call:\n",
    "\n",
    "    - `tickers`: Use the tickers for the member’s stock and bond holdings.\n",
    "\n",
    "    - `timeframe`: Use a time frame of one day.\n",
    "\n",
    "    - `start_date` and `end_date`: Use the same date for these parameters, and format them with the date of the previous weekday (or `2020-08-07`). This is because you want the one closing price for the most-recent trading day.\n",
    "\n",
    "4. Get the current closing prices for `SPY` and `AGG` by using the Alpaca `get_barset` function. Format the response as a Pandas DataFrame by including the `df` property at the end of the `get_barset` function.\n",
    "\n",
    "5. Navigating the Alpaca response DataFrame, select the `SPY` and `AGG` closing prices, and store them as variables.\n",
    "\n",
    "6. Calculate the value, in US dollars, of the current amount of shares in each of the stock and bond portions of the portfolio, and print the results.\n"
   ]
  },
  {
   "cell_type": "markdown",
   "metadata": {},
   "source": [
    "#### Review the total number of shares held in both (SPY) and (AGG)."
   ]
  },
  {
   "cell_type": "code",
   "execution_count": 17,
   "metadata": {},
   "outputs": [],
   "source": [
    "# Current amount of shares held in both the stock (SPY) and bond (AGG) portion of the portfolio.\n",
    "spy_shares = 110\n",
    "agg_shares = 200\n"
   ]
  },
  {
   "cell_type": "markdown",
   "metadata": {},
   "source": [
    "#### Step 1: In the `Starter_Code` folder, create an environment file (`.env`) to store the values of your Alpaca API key and Alpaca secret key."
   ]
  },
  {
   "cell_type": "markdown",
   "metadata": {},
   "source": [
    "#### Step 2: Set the variables for the Alpaca API and secret keys. Using the Alpaca SDK, create the Alpaca `tradeapi.REST` object. In this object, include the parameters for the Alpaca API key, the secret key, and the version number."
   ]
  },
  {
   "cell_type": "code",
   "execution_count": 18,
   "metadata": {},
   "outputs": [
    {
     "data": {
      "text/plain": [
       "str"
      ]
     },
     "metadata": {},
     "output_type": "display_data"
    },
    {
     "data": {
      "text/plain": [
       "str"
      ]
     },
     "metadata": {},
     "output_type": "display_data"
    }
   ],
   "source": [
    "# Set the variables for the Alpaca API and secret keys\n",
    "alpaca_api_key = os.getenv(\"ALPACA_API_KEY\")\n",
    "alpaca_secret_key = os.getenv(\"ALPACA_SECRET_KEY\")\n",
    "\n",
    "display(type(alpaca_api_key))\n",
    "display(type(alpaca_secret_key))\n",
    "\n",
    "# Create the Alpaca tradeapi.REST object\n",
    "alpaca = tradeapi.REST(\n",
    "        alpaca_api_key,\n",
    "        alpaca_secret_key,\n",
    "        api_version=\"v2\")\n"
   ]
  },
  {
   "cell_type": "markdown",
   "metadata": {},
   "source": [
    "#### Step 3: Set the following parameters for the Alpaca API call:\n",
    "\n",
    "- `tickers`: Use the tickers for the member’s stock and bond holdings.\n",
    "\n",
    "- `timeframe`: Use a time frame of one day.\n",
    "\n",
    "- `start_date` and `end_date`: Use the same date for these parameters, and format them with the date of the previous weekday (or `2020-08-07`). This is because you want the one closing price for the most-recent trading day.\n"
   ]
  },
  {
   "cell_type": "code",
   "execution_count": 19,
   "metadata": {},
   "outputs": [],
   "source": [
    "# Set the tickers for both the bond and stock portion of the portfolio\n",
    "tickers = [\"SPY\",\"AGG\"]\n",
    "\n",
    "# Set timeframe to 1D \n",
    "timeframe = \"1D\"\n",
    "\n",
    "# Format current date as ISO format\n",
    "# Set both the start and end date at the date of your prior weekday \n",
    "# This will give you the closing price of the previous trading day\n",
    "# Alternatively you can use a start and end date of 2020-08-07\n",
    "start_date = pd.Timestamp(\"2022-01-04\", tz=\"America/New_York\").isoformat()\n",
    "end_date = pd.Timestamp(\"2022-01-04\", tz=\"America/New_York\").isoformat()\n"
   ]
  },
  {
   "cell_type": "markdown",
   "metadata": {},
   "source": [
    "#### Step 4: Get the current closing prices for `SPY` and `AGG` by using the Alpaca `get_barset` function. Format the response as a Pandas DataFrame by including the `df` property at the end of the `get_barset` function."
   ]
  },
  {
   "cell_type": "code",
   "execution_count": 20,
   "metadata": {},
   "outputs": [
    {
     "data": {
      "text/html": [
       "<div>\n",
       "<style scoped>\n",
       "    .dataframe tbody tr th:only-of-type {\n",
       "        vertical-align: middle;\n",
       "    }\n",
       "\n",
       "    .dataframe tbody tr th {\n",
       "        vertical-align: top;\n",
       "    }\n",
       "\n",
       "    .dataframe thead tr th {\n",
       "        text-align: left;\n",
       "    }\n",
       "\n",
       "    .dataframe thead tr:last-of-type th {\n",
       "        text-align: right;\n",
       "    }\n",
       "</style>\n",
       "<table border=\"1\" class=\"dataframe\">\n",
       "  <thead>\n",
       "    <tr>\n",
       "      <th></th>\n",
       "      <th colspan=\"5\" halign=\"left\">AGG</th>\n",
       "      <th colspan=\"5\" halign=\"left\">SPY</th>\n",
       "    </tr>\n",
       "    <tr>\n",
       "      <th></th>\n",
       "      <th>open</th>\n",
       "      <th>high</th>\n",
       "      <th>low</th>\n",
       "      <th>close</th>\n",
       "      <th>volume</th>\n",
       "      <th>open</th>\n",
       "      <th>high</th>\n",
       "      <th>low</th>\n",
       "      <th>close</th>\n",
       "      <th>volume</th>\n",
       "    </tr>\n",
       "    <tr>\n",
       "      <th>time</th>\n",
       "      <th></th>\n",
       "      <th></th>\n",
       "      <th></th>\n",
       "      <th></th>\n",
       "      <th></th>\n",
       "      <th></th>\n",
       "      <th></th>\n",
       "      <th></th>\n",
       "      <th></th>\n",
       "      <th></th>\n",
       "    </tr>\n",
       "  </thead>\n",
       "  <tbody>\n",
       "    <tr>\n",
       "      <th>2022-01-04 00:00:00-05:00</th>\n",
       "      <td>113.22</td>\n",
       "      <td>113.3</td>\n",
       "      <td>113.075</td>\n",
       "      <td>113.29</td>\n",
       "      <td>7615698</td>\n",
       "      <td>479.22</td>\n",
       "      <td>479.98</td>\n",
       "      <td>475.58</td>\n",
       "      <td>477.51</td>\n",
       "      <td>59093344</td>\n",
       "    </tr>\n",
       "  </tbody>\n",
       "</table>\n",
       "</div>"
      ],
      "text/plain": [
       "                              AGG                                      SPY  \\\n",
       "                             open   high      low   close   volume    open   \n",
       "time                                                                         \n",
       "2022-01-04 00:00:00-05:00  113.22  113.3  113.075  113.29  7615698  479.22   \n",
       "\n",
       "                                                             \n",
       "                             high     low   close    volume  \n",
       "time                                                         \n",
       "2022-01-04 00:00:00-05:00  479.98  475.58  477.51  59093344  "
      ]
     },
     "execution_count": 20,
     "metadata": {},
     "output_type": "execute_result"
    }
   ],
   "source": [
    "# Use the Alpaca get_barset function to get current closing prices the portfolio\n",
    "# Be sure to set the `df` property after the function to format the response object as a DataFrame\n",
    "portfolio_prices_df = alpaca.get_barset(\n",
    "        tickers,\n",
    "        timeframe,\n",
    "        start = start_date,\n",
    "        end = end_date).df\n",
    "\n",
    "# Review the first 5 rows of the Alpaca DataFrame\n",
    "portfolio_prices_df.head()\n"
   ]
  },
  {
   "cell_type": "markdown",
   "metadata": {},
   "source": [
    "#### Step 5: Navigating the Alpaca response DataFrame, select the `SPY` and `AGG` closing prices, and store them as variables."
   ]
  },
  {
   "cell_type": "code",
   "execution_count": 21,
   "metadata": {},
   "outputs": [
    {
     "name": "stdout",
     "output_type": "stream",
     "text": [
      "113.29\n",
      "<class 'float'>\n"
     ]
    }
   ],
   "source": [
    "# Access the closing price for AGG from the Alpaca DataFrame\n",
    "# Converting the value to a floating point number\n",
    "agg_close_price = float(portfolio_prices_df[\"AGG\"][\"close\"])\n",
    "\n",
    "# Print the AGG closing price\n",
    "print(agg_close_price)\n",
    "print(type(agg_close_price))\n"
   ]
  },
  {
   "cell_type": "code",
   "execution_count": 22,
   "metadata": {},
   "outputs": [
    {
     "name": "stdout",
     "output_type": "stream",
     "text": [
      "477.51\n",
      "<class 'float'>\n"
     ]
    }
   ],
   "source": [
    "# Access the closing price for SPY from the Alpaca DataFrame\n",
    "# Converting the value to a floating point number\n",
    "spy_close_price = float(portfolio_prices_df[\"SPY\"][\"close\"])\n",
    "\n",
    "# Print the SPY closing price\n",
    "print(spy_close_price)\n",
    "print(type(spy_close_price))\n"
   ]
  },
  {
   "cell_type": "markdown",
   "metadata": {},
   "source": [
    "#### Step 6: Calculate the value, in US dollars, of the current amount of shares in each of the stock and bond portions of the portfolio, and print the results."
   ]
  },
  {
   "cell_type": "code",
   "execution_count": 23,
   "metadata": {},
   "outputs": [
    {
     "name": "stdout",
     "output_type": "stream",
     "text": [
      "The current value of AGG holding is $22658.0\n"
     ]
    }
   ],
   "source": [
    "# Calculate the current value of the bond portion of the portfolio\n",
    "agg_value = agg_shares * agg_close_price\n",
    "\n",
    "# Print the current value of the bond portfolio\n",
    "print(f\"The current value of AGG holding is ${agg_value}\")\n"
   ]
  },
  {
   "cell_type": "code",
   "execution_count": 24,
   "metadata": {},
   "outputs": [
    {
     "name": "stdout",
     "output_type": "stream",
     "text": [
      "The current value of SPY holding is $52526.1\n"
     ]
    }
   ],
   "source": [
    "# Calculate the current value of the stock portion of the portfolio\n",
    "spy_value = spy_shares * spy_close_price\n",
    "\n",
    "# Print the current value of the stock portfolio\n",
    "print(f\"The current value of SPY holding is ${spy_value}\")\n"
   ]
  },
  {
   "cell_type": "code",
   "execution_count": 25,
   "metadata": {},
   "outputs": [
    {
     "name": "stdout",
     "output_type": "stream",
     "text": [
      "The current value of stock and bond portfolio is $75184.1\n"
     ]
    }
   ],
   "source": [
    "# Calculate the total value of the stock and bond portion of the portfolio\n",
    "total_stocks_bonds = agg_value + spy_value\n",
    "\n",
    "# Print the current balance of the stock and bond portion of the portfolio\n",
    "print(f\"The current value of stock and bond portfolio is ${total_stocks_bonds}\")\n"
   ]
  },
  {
   "cell_type": "code",
   "execution_count": 26,
   "metadata": {},
   "outputs": [
    {
     "name": "stdout",
     "output_type": "stream",
     "text": [
      "The total value of the portfolio is $142422.682\n"
     ]
    }
   ],
   "source": [
    "# Calculate the total value of the member's entire savings portfolio\n",
    "# Add the value of the cryptocurrency walled to the value of the total stocks and bonds\n",
    "total_portfolio = total_crypto_wallet + total_stocks_bonds \n",
    "\n",
    "# Print the total value of the member's entire balance\n",
    "print(f\"The total value of the portfolio is ${total_portfolio}\")\n"
   ]
  },
  {
   "cell_type": "markdown",
   "metadata": {},
   "source": [
    "### Evaluate the Emergency Fund\n",
    "\n",
    "In this section, you’ll use the valuations for the cryptocurrency wallet and for the stock and bond portions of the portfolio to determine if the credit union member has enough savings to build an emergency fund into their financial plan. To do this, complete the following steps:\n",
    "\n",
    "1. Create a Python list named `savings_data` that has two elements. The first element contains the total value of the cryptocurrency wallet. The second element contains the total value of the stock and bond portions of the portfolio.\n",
    "\n",
    "2. Use the `savings_data` list to create a Pandas DataFrame named `savings_df`, and then display this DataFrame. The function to create the DataFrame should take the following three parameters:\n",
    "\n",
    "    - `savings_data`: Use the list that you just created.\n",
    "\n",
    "    - `columns`: Set this parameter equal to a Python list with a single value called `amount`.\n",
    "\n",
    "    - `index`: Set this parameter equal to a Python list with the values of `crypto` and `stock/bond`.\n",
    "\n",
    "3. Use the `savings_df` DataFrame to plot a pie chart that visualizes the composition of the member’s portfolio. The y-axis of the pie chart uses `amount`. Be sure to add a title.\n",
    "\n",
    "4. Using Python, determine if the current portfolio has enough to create an emergency fund as part of the member’s financial plan. Ideally, an emergency fund should equal to three times the member’s monthly income. To do this, implement the following steps:\n",
    "\n",
    "    1. Create a variable named `emergency_fund_value`, and set it equal to three times the value of the member’s `monthly_income` of $12000. (You set this earlier in Part 1).\n",
    "\n",
    "    2. Create a series of three if statements to determine if the member’s total portfolio is large enough to fund the emergency portfolio:\n",
    "\n",
    "        1. If the total portfolio value is greater than the emergency fund value, display a message congratulating the member for having enough money in this fund.\n",
    "\n",
    "        2. Else if the total portfolio value is equal to the emergency fund value, display a message congratulating the member on reaching this important financial goal.\n",
    "\n",
    "        3. Else the total portfolio is less than the emergency fund value, so display a message showing how many dollars away the member is from reaching the goal. (Subtract the total portfolio value from the emergency fund value.)\n"
   ]
  },
  {
   "cell_type": "markdown",
   "metadata": {},
   "source": [
    "#### Step 1: Create a Python list named `savings_data` that has two elements. The first element contains the total value of the cryptocurrency wallet. The second element contains the total value of the stock and bond portions of the portfolio."
   ]
  },
  {
   "cell_type": "code",
   "execution_count": 27,
   "metadata": {},
   "outputs": [
    {
     "data": {
      "text/plain": [
       "[71226.0, 75184.1]"
      ]
     },
     "execution_count": 27,
     "metadata": {},
     "output_type": "execute_result"
    }
   ],
   "source": [
    "# Consolidate financial assets data into a Python list\n",
    "savings_data = [71226.0,75184.1]\n",
    "\n",
    "# Review the Python list savings_data\n",
    "savings_data\n",
    "    "
   ]
  },
  {
   "cell_type": "markdown",
   "metadata": {},
   "source": [
    "#### Step 2: Use the `savings_data` list to create a Pandas DataFrame named `savings_df`, and then display this DataFrame. The function to create the DataFrame should take the following three parameters:\n",
    "\n",
    "- `savings_data`: Use the list that you just created.\n",
    "\n",
    "- `columns`: Set this parameter equal to a Python list with a single value called `amount`.\n",
    "\n",
    "- `index`: Set this parameter equal to a Python list with the values of `crypto` and `stock/bond`.\n"
   ]
  },
  {
   "cell_type": "code",
   "execution_count": 28,
   "metadata": {},
   "outputs": [
    {
     "data": {
      "text/html": [
       "<div>\n",
       "<style scoped>\n",
       "    .dataframe tbody tr th:only-of-type {\n",
       "        vertical-align: middle;\n",
       "    }\n",
       "\n",
       "    .dataframe tbody tr th {\n",
       "        vertical-align: top;\n",
       "    }\n",
       "\n",
       "    .dataframe thead th {\n",
       "        text-align: right;\n",
       "    }\n",
       "</style>\n",
       "<table border=\"1\" class=\"dataframe\">\n",
       "  <thead>\n",
       "    <tr style=\"text-align: right;\">\n",
       "      <th></th>\n",
       "      <th>Amount</th>\n",
       "    </tr>\n",
       "  </thead>\n",
       "  <tbody>\n",
       "    <tr>\n",
       "      <th>crypto</th>\n",
       "      <td>67238.582</td>\n",
       "    </tr>\n",
       "    <tr>\n",
       "      <th>stock/bond</th>\n",
       "      <td>75184.100</td>\n",
       "    </tr>\n",
       "  </tbody>\n",
       "</table>\n",
       "</div>"
      ],
      "text/plain": [
       "               Amount\n",
       "crypto      67238.582\n",
       "stock/bond  75184.100"
      ]
     },
     "metadata": {},
     "output_type": "display_data"
    },
    {
     "data": {
      "text/html": [
       "<div>\n",
       "<style scoped>\n",
       "    .dataframe tbody tr th:only-of-type {\n",
       "        vertical-align: middle;\n",
       "    }\n",
       "\n",
       "    .dataframe tbody tr th {\n",
       "        vertical-align: top;\n",
       "    }\n",
       "\n",
       "    .dataframe thead th {\n",
       "        text-align: right;\n",
       "    }\n",
       "</style>\n",
       "<table border=\"1\" class=\"dataframe\">\n",
       "  <thead>\n",
       "    <tr style=\"text-align: right;\">\n",
       "      <th></th>\n",
       "      <th>Amount</th>\n",
       "    </tr>\n",
       "  </thead>\n",
       "  <tbody>\n",
       "    <tr>\n",
       "      <th>crypto</th>\n",
       "      <td>71226.0</td>\n",
       "    </tr>\n",
       "    <tr>\n",
       "      <th>stock/bond</th>\n",
       "      <td>75184.1</td>\n",
       "    </tr>\n",
       "  </tbody>\n",
       "</table>\n",
       "</div>"
      ],
      "text/plain": [
       "             Amount\n",
       "crypto      71226.0\n",
       "stock/bond  75184.1"
      ]
     },
     "execution_count": 28,
     "metadata": {},
     "output_type": "execute_result"
    }
   ],
   "source": [
    "# Create a Pandas DataFrame called savings_df \n",
    "savings_df = pd.DataFrame(\n",
    "        {'Amount':[total_crypto_wallet, total_stocks_bonds]},\n",
    "        index=['crypto','stock/bond'])\n",
    "\n",
    "# Display the savings_df DataFrame\n",
    "display(savings_df)\n",
    "\n",
    "#alternate method using savings_data list\n",
    "savings_df2 = pd.DataFrame(\n",
    "        {'Amount':savings_data},\n",
    "        index=['crypto','stock/bond'])\n",
    "savings_df2"
   ]
  },
  {
   "cell_type": "markdown",
   "metadata": {},
   "source": [
    "#### Step 3: Use the `savings_df` DataFrame to plot a pie chart that visualizes the composition of the member’s portfolio. The y-axis of the pie chart uses `amount`. Be sure to add a title."
   ]
  },
  {
   "cell_type": "code",
   "execution_count": 29,
   "metadata": {},
   "outputs": [
    {
     "data": {
      "text/plain": [
       "<AxesSubplot:title={'center':'Portfolio Composition 2022-01-04'}, ylabel='Amount'>"
      ]
     },
     "execution_count": 29,
     "metadata": {},
     "output_type": "execute_result"
    },
    {
     "data": {
      "image/png": "[encoded data removed]",
      "text/plain": [
       "<Figure size 432x288 with 1 Axes>"
      ]
     },
     "metadata": {},
     "output_type": "display_data"
    }
   ],
   "source": [
    "# Plot the total value of the member's portfolio (crypto and stock/bond) in a pie chart\n",
    "savings_df.plot.pie(y='Amount', title='Portfolio Composition 2022-01-04')\n"
   ]
  },
  {
   "cell_type": "markdown",
   "metadata": {},
   "source": [
    "#### Step 4: Using Python, determine if the current portfolio has enough to create an emergency fund as part of the member’s financial plan. Ideally, an emergency fund should equal to three times the member’s monthly income. To do this, implement the following steps:\n",
    "\n",
    "Step 1. Create a variable named `emergency_fund_value`, and set it equal to three times the value of the member’s `monthly_income` of 12000. (You set this earlier in Part 1).\n",
    "\n",
    "Step 2. Create a series of three if statements to determine if the member’s total portfolio is large enough to fund the emergency portfolio:\n",
    "\n",
    "* If the total portfolio value is greater than the emergency fund value, display a message congratulating the member for having enough money in this fund.\n",
    "\n",
    "* Else if the total portfolio value is equal to the emergency fund value, display a message congratulating the member on reaching this important financial goal.\n",
    "\n",
    "* Else the total portfolio is less than the emergency fund value, so display a message showing how many dollars away the member is from reaching the goal. (Subtract the total portfolio value from the emergency fund value.)\n"
   ]
  },
  {
   "cell_type": "markdown",
   "metadata": {},
   "source": [
    "##### Step 4-1: Create a variable named `emergency_fund_value`, and set it equal to three times the value of the member’s `monthly_income` of 12000. (You set this earlier in Part 1)."
   ]
  },
  {
   "cell_type": "code",
   "execution_count": 30,
   "metadata": {},
   "outputs": [],
   "source": [
    "# Create a variable named emergency_fund_value\n",
    "emergency_fund_value = 3 * monthly_income\n"
   ]
  },
  {
   "cell_type": "markdown",
   "metadata": {},
   "source": [
    "##### Step 4-2: Create a series of three if statements to determine if the member’s total portfolio is large enough to fund the emergency portfolio:\n",
    "\n",
    "* If the total portfolio value is greater than the emergency fund value, display a message congratulating the member for having enough money in this fund.\n",
    "\n",
    "* Else if the total portfolio value is equal to the emergency fund value, display a message congratulating the member on reaching this important financial goal.\n",
    "\n",
    "* Else the total portfolio is less than the emergency fund value, so display a message showing how many dollars away the member is from reaching the goal. (Subtract the total portfolio value from the emergency fund value.)"
   ]
  },
  {
   "cell_type": "code",
   "execution_count": 31,
   "metadata": {},
   "outputs": [
    {
     "name": "stdout",
     "output_type": "stream",
     "text": [
      "Congratulations you have enough money to supplement emergency funds\n"
     ]
    }
   ],
   "source": [
    "# Evaluate the possibility of creating an emergency fund with 3 conditions:\n",
    "if total_portfolio > emergency_fund_value:\n",
    "    print(f\"Congratulations you have enough money to supplement emergency funds\")\n",
    "\n",
    "elif total_portfolio == emergency_fund_value:\n",
    "    print(f\"Congratulations you have reached an important financial goal to supplement emergency funds\")\n",
    "        \n",
    "else:\n",
    "    print(f\"You are: {emergency_fund_value-total_portfolio}$ short to reach your financial goal\")\n"
   ]
  },
  {
   "cell_type": "markdown",
   "metadata": {},
   "source": [
    "## Part 2: Create a Financial Planner for Retirement"
   ]
  },
  {
   "cell_type": "markdown",
   "metadata": {},
   "source": [
    "### Create the Monte Carlo Simulation\n",
    "\n",
    "In this section, you’ll use the MCForecastTools library to create a Monte Carlo simulation for the member’s savings portfolio. To do this, complete the following steps:\n",
    "\n",
    "1. Make an API call via the Alpaca SDK to get 3 years of historical closing prices for a traditional 60/40 portfolio split: 60% stocks (SPY) and 40% bonds (AGG).\n",
    "\n",
    "2. Run a Monte Carlo simulation of 500 samples and 30 years for the 60/40 portfolio, and then plot the results.The following image shows the overlay line plot resulting from a simulation with these characteristics. However, because a random number generator is used to run each live Monte Carlo simulation, your image will differ slightly from this exact image:\n",
    "\n",
    "![A screenshot depicts the resulting plot.](Images/5-4-monte-carlo-line-plot.png)\n",
    "\n",
    "3. Plot the probability distribution of the Monte Carlo simulation. Plot the probability distribution of the Monte Carlo simulation. The following image shows the histogram plot resulting from a simulation with these characteristics. However, because a random number generator is used to run each live Monte Carlo simulation, your image will differ slightly from this exact image:\n",
    "\n",
    "![A screenshot depicts the histogram plot.](Images/5-4-monte-carlo-histogram.png)\n",
    "\n",
    "4. Generate the summary statistics for the Monte Carlo simulation.\n",
    "\n"
   ]
  },
  {
   "cell_type": "markdown",
   "metadata": {},
   "source": [
    "#### Step 1: Make an API call via the Alpaca SDK to get 3 years of historical closing prices for a traditional 60/40 portfolio split: 60% stocks (SPY) and 40% bonds (AGG)."
   ]
  },
  {
   "cell_type": "code",
   "execution_count": 32,
   "metadata": {},
   "outputs": [],
   "source": [
    "import datetime"
   ]
  },
  {
   "cell_type": "code",
   "execution_count": 34,
   "metadata": {},
   "outputs": [
    {
     "name": "stdout",
     "output_type": "stream",
     "text": [
      "2022-01-08\n"
     ]
    }
   ],
   "source": [
    "# Set start and end dates of 3 years back from your current date\n",
    "# Alternatively, you can use an end date of 2020-08-07 and work 3 years back from that date \n",
    "#Format current date as ISO format\n",
    "today_date = str(datetime.datetime.now()).split()[0]\n",
    "print(today_date)\n",
    "\n",
    "start_date = pd.Timestamp(\"2019-01-08\", tz=\"America/New_York\").isoformat()\n",
    "end_date = pd.Timestamp(today_date)\n",
    "\n",
    "# Set number of rows to 1000 to retrieve the maximum amount of rows\n",
    "limit_rows =1000\n",
    "\n",
    "# Set the tickers for both the bond and stock portion of the portfolio\n",
    "tickers = [\"SPY\",\"AGG\"]\n",
    "\n",
    "# Set timeframe to 1D \n",
    "timeframe = \"1D\""
   ]
  },
  {
   "cell_type": "code",
   "execution_count": 36,
   "metadata": {},
   "outputs": [
    {
     "data": {
      "text/html": [
       "<div>\n",
       "<style scoped>\n",
       "    .dataframe tbody tr th:only-of-type {\n",
       "        vertical-align: middle;\n",
       "    }\n",
       "\n",
       "    .dataframe tbody tr th {\n",
       "        vertical-align: top;\n",
       "    }\n",
       "\n",
       "    .dataframe thead tr th {\n",
       "        text-align: left;\n",
       "    }\n",
       "\n",
       "    .dataframe thead tr:last-of-type th {\n",
       "        text-align: right;\n",
       "    }\n",
       "</style>\n",
       "<table border=\"1\" class=\"dataframe\">\n",
       "  <thead>\n",
       "    <tr>\n",
       "      <th></th>\n",
       "      <th colspan=\"5\" halign=\"left\">AGG</th>\n",
       "      <th colspan=\"5\" halign=\"left\">SPY</th>\n",
       "    </tr>\n",
       "    <tr>\n",
       "      <th></th>\n",
       "      <th>open</th>\n",
       "      <th>high</th>\n",
       "      <th>low</th>\n",
       "      <th>close</th>\n",
       "      <th>volume</th>\n",
       "      <th>open</th>\n",
       "      <th>high</th>\n",
       "      <th>low</th>\n",
       "      <th>close</th>\n",
       "      <th>volume</th>\n",
       "    </tr>\n",
       "    <tr>\n",
       "      <th>time</th>\n",
       "      <th></th>\n",
       "      <th></th>\n",
       "      <th></th>\n",
       "      <th></th>\n",
       "      <th></th>\n",
       "      <th></th>\n",
       "      <th></th>\n",
       "      <th></th>\n",
       "      <th></th>\n",
       "      <th></th>\n",
       "    </tr>\n",
       "  </thead>\n",
       "  <tbody>\n",
       "    <tr>\n",
       "      <th>2019-01-08 00:00:00-05:00</th>\n",
       "      <td>106.40</td>\n",
       "      <td>106.5300</td>\n",
       "      <td>105.53</td>\n",
       "      <td>106.420</td>\n",
       "      <td>3818241.0</td>\n",
       "      <td>256.82</td>\n",
       "      <td>257.3100</td>\n",
       "      <td>254.00</td>\n",
       "      <td>256.65</td>\n",
       "      <td>88864452</td>\n",
       "    </tr>\n",
       "    <tr>\n",
       "      <th>2019-01-09 00:00:00-05:00</th>\n",
       "      <td>106.42</td>\n",
       "      <td>106.5700</td>\n",
       "      <td>105.95</td>\n",
       "      <td>106.480</td>\n",
       "      <td>5163839.0</td>\n",
       "      <td>257.56</td>\n",
       "      <td>258.9100</td>\n",
       "      <td>241.40</td>\n",
       "      <td>257.71</td>\n",
       "      <td>77555720</td>\n",
       "    </tr>\n",
       "    <tr>\n",
       "      <th>2019-01-10 00:00:00-05:00</th>\n",
       "      <td>106.52</td>\n",
       "      <td>106.5600</td>\n",
       "      <td>106.33</td>\n",
       "      <td>106.385</td>\n",
       "      <td>3441214.0</td>\n",
       "      <td>256.26</td>\n",
       "      <td>259.1600</td>\n",
       "      <td>255.50</td>\n",
       "      <td>258.94</td>\n",
       "      <td>85909797</td>\n",
       "    </tr>\n",
       "    <tr>\n",
       "      <th>2019-01-11 00:00:00-05:00</th>\n",
       "      <td>106.58</td>\n",
       "      <td>106.6600</td>\n",
       "      <td>106.50</td>\n",
       "      <td>106.560</td>\n",
       "      <td>5638395.0</td>\n",
       "      <td>257.68</td>\n",
       "      <td>259.0098</td>\n",
       "      <td>257.03</td>\n",
       "      <td>258.76</td>\n",
       "      <td>60544770</td>\n",
       "    </tr>\n",
       "    <tr>\n",
       "      <th>2019-01-14 00:00:00-05:00</th>\n",
       "      <td>106.57</td>\n",
       "      <td>106.6099</td>\n",
       "      <td>106.40</td>\n",
       "      <td>106.440</td>\n",
       "      <td>6544627.0</td>\n",
       "      <td>256.86</td>\n",
       "      <td>258.3000</td>\n",
       "      <td>256.41</td>\n",
       "      <td>257.69</td>\n",
       "      <td>51552561</td>\n",
       "    </tr>\n",
       "  </tbody>\n",
       "</table>\n",
       "</div>"
      ],
      "text/plain": [
       "                              AGG                                        \\\n",
       "                             open      high     low    close     volume   \n",
       "time                                                                      \n",
       "2019-01-08 00:00:00-05:00  106.40  106.5300  105.53  106.420  3818241.0   \n",
       "2019-01-09 00:00:00-05:00  106.42  106.5700  105.95  106.480  5163839.0   \n",
       "2019-01-10 00:00:00-05:00  106.52  106.5600  106.33  106.385  3441214.0   \n",
       "2019-01-11 00:00:00-05:00  106.58  106.6600  106.50  106.560  5638395.0   \n",
       "2019-01-14 00:00:00-05:00  106.57  106.6099  106.40  106.440  6544627.0   \n",
       "\n",
       "                              SPY                                      \n",
       "                             open      high     low   close    volume  \n",
       "time                                                                   \n",
       "2019-01-08 00:00:00-05:00  256.82  257.3100  254.00  256.65  88864452  \n",
       "2019-01-09 00:00:00-05:00  257.56  258.9100  241.40  257.71  77555720  \n",
       "2019-01-10 00:00:00-05:00  256.26  259.1600  255.50  258.94  85909797  \n",
       "2019-01-11 00:00:00-05:00  257.68  259.0098  257.03  258.76  60544770  \n",
       "2019-01-14 00:00:00-05:00  256.86  258.3000  256.41  257.69  51552561  "
      ]
     },
     "metadata": {},
     "output_type": "display_data"
    },
    {
     "data": {
      "text/html": [
       "<div>\n",
       "<style scoped>\n",
       "    .dataframe tbody tr th:only-of-type {\n",
       "        vertical-align: middle;\n",
       "    }\n",
       "\n",
       "    .dataframe tbody tr th {\n",
       "        vertical-align: top;\n",
       "    }\n",
       "\n",
       "    .dataframe thead tr th {\n",
       "        text-align: left;\n",
       "    }\n",
       "\n",
       "    .dataframe thead tr:last-of-type th {\n",
       "        text-align: right;\n",
       "    }\n",
       "</style>\n",
       "<table border=\"1\" class=\"dataframe\">\n",
       "  <thead>\n",
       "    <tr>\n",
       "      <th></th>\n",
       "      <th colspan=\"5\" halign=\"left\">AGG</th>\n",
       "      <th colspan=\"5\" halign=\"left\">SPY</th>\n",
       "    </tr>\n",
       "    <tr>\n",
       "      <th></th>\n",
       "      <th>open</th>\n",
       "      <th>high</th>\n",
       "      <th>low</th>\n",
       "      <th>close</th>\n",
       "      <th>volume</th>\n",
       "      <th>open</th>\n",
       "      <th>high</th>\n",
       "      <th>low</th>\n",
       "      <th>close</th>\n",
       "      <th>volume</th>\n",
       "    </tr>\n",
       "    <tr>\n",
       "      <th>time</th>\n",
       "      <th></th>\n",
       "      <th></th>\n",
       "      <th></th>\n",
       "      <th></th>\n",
       "      <th></th>\n",
       "      <th></th>\n",
       "      <th></th>\n",
       "      <th></th>\n",
       "      <th></th>\n",
       "      <th></th>\n",
       "    </tr>\n",
       "  </thead>\n",
       "  <tbody>\n",
       "    <tr>\n",
       "      <th>2022-01-03 00:00:00-05:00</th>\n",
       "      <td>113.67</td>\n",
       "      <td>113.6753</td>\n",
       "      <td>113.310</td>\n",
       "      <td>113.31</td>\n",
       "      <td>8906643.0</td>\n",
       "      <td>476.32</td>\n",
       "      <td>477.85</td>\n",
       "      <td>473.8500</td>\n",
       "      <td>477.76</td>\n",
       "      <td>56128214</td>\n",
       "    </tr>\n",
       "    <tr>\n",
       "      <th>2022-01-04 00:00:00-05:00</th>\n",
       "      <td>113.22</td>\n",
       "      <td>113.3000</td>\n",
       "      <td>113.075</td>\n",
       "      <td>113.29</td>\n",
       "      <td>7615698.0</td>\n",
       "      <td>479.22</td>\n",
       "      <td>479.98</td>\n",
       "      <td>475.5800</td>\n",
       "      <td>477.51</td>\n",
       "      <td>59093344</td>\n",
       "    </tr>\n",
       "    <tr>\n",
       "      <th>2022-01-05 00:00:00-05:00</th>\n",
       "      <td>113.34</td>\n",
       "      <td>113.3600</td>\n",
       "      <td>112.900</td>\n",
       "      <td>112.93</td>\n",
       "      <td>7686662.0</td>\n",
       "      <td>477.16</td>\n",
       "      <td>477.98</td>\n",
       "      <td>468.2801</td>\n",
       "      <td>468.38</td>\n",
       "      <td>87411658</td>\n",
       "    </tr>\n",
       "    <tr>\n",
       "      <th>2022-01-06 00:00:00-05:00</th>\n",
       "      <td>112.75</td>\n",
       "      <td>112.8400</td>\n",
       "      <td>112.660</td>\n",
       "      <td>112.81</td>\n",
       "      <td>6812819.0</td>\n",
       "      <td>467.89</td>\n",
       "      <td>470.82</td>\n",
       "      <td>465.4300</td>\n",
       "      <td>467.93</td>\n",
       "      <td>78577470</td>\n",
       "    </tr>\n",
       "    <tr>\n",
       "      <th>2022-01-07 00:00:00-05:00</th>\n",
       "      <td>112.69</td>\n",
       "      <td>112.7050</td>\n",
       "      <td>112.340</td>\n",
       "      <td>112.50</td>\n",
       "      <td>8338975.0</td>\n",
       "      <td>467.95</td>\n",
       "      <td>469.20</td>\n",
       "      <td>464.6500</td>\n",
       "      <td>466.12</td>\n",
       "      <td>67943055</td>\n",
       "    </tr>\n",
       "  </tbody>\n",
       "</table>\n",
       "</div>"
      ],
      "text/plain": [
       "                              AGG                                        \\\n",
       "                             open      high      low   close     volume   \n",
       "time                                                                      \n",
       "2022-01-03 00:00:00-05:00  113.67  113.6753  113.310  113.31  8906643.0   \n",
       "2022-01-04 00:00:00-05:00  113.22  113.3000  113.075  113.29  7615698.0   \n",
       "2022-01-05 00:00:00-05:00  113.34  113.3600  112.900  112.93  7686662.0   \n",
       "2022-01-06 00:00:00-05:00  112.75  112.8400  112.660  112.81  6812819.0   \n",
       "2022-01-07 00:00:00-05:00  112.69  112.7050  112.340  112.50  8338975.0   \n",
       "\n",
       "                              SPY                                      \n",
       "                             open    high       low   close    volume  \n",
       "time                                                                   \n",
       "2022-01-03 00:00:00-05:00  476.32  477.85  473.8500  477.76  56128214  \n",
       "2022-01-04 00:00:00-05:00  479.22  479.98  475.5800  477.51  59093344  \n",
       "2022-01-05 00:00:00-05:00  477.16  477.98  468.2801  468.38  87411658  \n",
       "2022-01-06 00:00:00-05:00  467.89  470.82  465.4300  467.93  78577470  \n",
       "2022-01-07 00:00:00-05:00  467.95  469.20  464.6500  466.12  67943055  "
      ]
     },
     "metadata": {},
     "output_type": "display_data"
    }
   ],
   "source": [
    "# Use the Alpaca get_barset function to make the API call to get the 3 years worth of pricing data\n",
    "# The tickers and timeframe parameters should have been set in Part 1 of this activity \n",
    "# The start and end dates should be updated with the information set above\n",
    "# Remember to add the df property to the end of the call so the response is returned as a DataFrame\n",
    "portfolio_prices_mc_df = alpaca.get_barset(\n",
    "        tickers,\n",
    "        timeframe,\n",
    "        start = start_date,\n",
    "        end = end_date,\n",
    "        limit = limit_rows\n",
    "        ).df\n",
    "\n",
    "# Display both the first and last five rows of the DataFrame\n",
    "display(portfolio_prices_mc_df.head())\n",
    "display(portfolio_prices_mc_df.tail())\n",
    "\n"
   ]
  },
  {
   "cell_type": "markdown",
   "metadata": {},
   "source": [
    "#### Step 2: Run a Monte Carlo simulation of 500 samples and 30 years for the 60/40 portfolio, and then plot the results."
   ]
  },
  {
   "cell_type": "code",
   "execution_count": 37,
   "metadata": {},
   "outputs": [
    {
     "data": {
      "text/html": [
       "<div>\n",
       "<style scoped>\n",
       "    .dataframe tbody tr th:only-of-type {\n",
       "        vertical-align: middle;\n",
       "    }\n",
       "\n",
       "    .dataframe tbody tr th {\n",
       "        vertical-align: top;\n",
       "    }\n",
       "\n",
       "    .dataframe thead tr th {\n",
       "        text-align: left;\n",
       "    }\n",
       "\n",
       "    .dataframe thead tr:last-of-type th {\n",
       "        text-align: right;\n",
       "    }\n",
       "</style>\n",
       "<table border=\"1\" class=\"dataframe\">\n",
       "  <thead>\n",
       "    <tr>\n",
       "      <th></th>\n",
       "      <th colspan=\"6\" halign=\"left\">AGG</th>\n",
       "      <th colspan=\"6\" halign=\"left\">SPY</th>\n",
       "    </tr>\n",
       "    <tr>\n",
       "      <th></th>\n",
       "      <th>open</th>\n",
       "      <th>high</th>\n",
       "      <th>low</th>\n",
       "      <th>close</th>\n",
       "      <th>volume</th>\n",
       "      <th>daily_return</th>\n",
       "      <th>open</th>\n",
       "      <th>high</th>\n",
       "      <th>low</th>\n",
       "      <th>close</th>\n",
       "      <th>volume</th>\n",
       "      <th>daily_return</th>\n",
       "    </tr>\n",
       "    <tr>\n",
       "      <th>time</th>\n",
       "      <th></th>\n",
       "      <th></th>\n",
       "      <th></th>\n",
       "      <th></th>\n",
       "      <th></th>\n",
       "      <th></th>\n",
       "      <th></th>\n",
       "      <th></th>\n",
       "      <th></th>\n",
       "      <th></th>\n",
       "      <th></th>\n",
       "      <th></th>\n",
       "    </tr>\n",
       "  </thead>\n",
       "  <tbody>\n",
       "    <tr>\n",
       "      <th>2019-01-08 00:00:00-05:00</th>\n",
       "      <td>106.40</td>\n",
       "      <td>106.5300</td>\n",
       "      <td>105.53</td>\n",
       "      <td>106.420</td>\n",
       "      <td>3818241.0</td>\n",
       "      <td>NaN</td>\n",
       "      <td>256.82</td>\n",
       "      <td>257.3100</td>\n",
       "      <td>254.00</td>\n",
       "      <td>256.65</td>\n",
       "      <td>88864452</td>\n",
       "      <td>NaN</td>\n",
       "    </tr>\n",
       "    <tr>\n",
       "      <th>2019-01-09 00:00:00-05:00</th>\n",
       "      <td>106.42</td>\n",
       "      <td>106.5700</td>\n",
       "      <td>105.95</td>\n",
       "      <td>106.480</td>\n",
       "      <td>5163839.0</td>\n",
       "      <td>0.000564</td>\n",
       "      <td>257.56</td>\n",
       "      <td>258.9100</td>\n",
       "      <td>241.40</td>\n",
       "      <td>257.71</td>\n",
       "      <td>77555720</td>\n",
       "      <td>0.004130</td>\n",
       "    </tr>\n",
       "    <tr>\n",
       "      <th>2019-01-10 00:00:00-05:00</th>\n",
       "      <td>106.52</td>\n",
       "      <td>106.5600</td>\n",
       "      <td>106.33</td>\n",
       "      <td>106.385</td>\n",
       "      <td>3441214.0</td>\n",
       "      <td>-0.000892</td>\n",
       "      <td>256.26</td>\n",
       "      <td>259.1600</td>\n",
       "      <td>255.50</td>\n",
       "      <td>258.94</td>\n",
       "      <td>85909797</td>\n",
       "      <td>0.004773</td>\n",
       "    </tr>\n",
       "    <tr>\n",
       "      <th>2019-01-11 00:00:00-05:00</th>\n",
       "      <td>106.58</td>\n",
       "      <td>106.6600</td>\n",
       "      <td>106.50</td>\n",
       "      <td>106.560</td>\n",
       "      <td>5638395.0</td>\n",
       "      <td>0.001645</td>\n",
       "      <td>257.68</td>\n",
       "      <td>259.0098</td>\n",
       "      <td>257.03</td>\n",
       "      <td>258.76</td>\n",
       "      <td>60544770</td>\n",
       "      <td>-0.000695</td>\n",
       "    </tr>\n",
       "    <tr>\n",
       "      <th>2019-01-14 00:00:00-05:00</th>\n",
       "      <td>106.57</td>\n",
       "      <td>106.6099</td>\n",
       "      <td>106.40</td>\n",
       "      <td>106.440</td>\n",
       "      <td>6544627.0</td>\n",
       "      <td>-0.001126</td>\n",
       "      <td>256.86</td>\n",
       "      <td>258.3000</td>\n",
       "      <td>256.41</td>\n",
       "      <td>257.69</td>\n",
       "      <td>51552561</td>\n",
       "      <td>-0.004135</td>\n",
       "    </tr>\n",
       "  </tbody>\n",
       "</table>\n",
       "</div>"
      ],
      "text/plain": [
       "                              AGG                                        \\\n",
       "                             open      high     low    close     volume   \n",
       "time                                                                      \n",
       "2019-01-08 00:00:00-05:00  106.40  106.5300  105.53  106.420  3818241.0   \n",
       "2019-01-09 00:00:00-05:00  106.42  106.5700  105.95  106.480  5163839.0   \n",
       "2019-01-10 00:00:00-05:00  106.52  106.5600  106.33  106.385  3441214.0   \n",
       "2019-01-11 00:00:00-05:00  106.58  106.6600  106.50  106.560  5638395.0   \n",
       "2019-01-14 00:00:00-05:00  106.57  106.6099  106.40  106.440  6544627.0   \n",
       "\n",
       "                                           SPY                            \\\n",
       "                          daily_return    open      high     low   close   \n",
       "time                                                                       \n",
       "2019-01-08 00:00:00-05:00          NaN  256.82  257.3100  254.00  256.65   \n",
       "2019-01-09 00:00:00-05:00     0.000564  257.56  258.9100  241.40  257.71   \n",
       "2019-01-10 00:00:00-05:00    -0.000892  256.26  259.1600  255.50  258.94   \n",
       "2019-01-11 00:00:00-05:00     0.001645  257.68  259.0098  257.03  258.76   \n",
       "2019-01-14 00:00:00-05:00    -0.001126  256.86  258.3000  256.41  257.69   \n",
       "\n",
       "                                                  \n",
       "                             volume daily_return  \n",
       "time                                              \n",
       "2019-01-08 00:00:00-05:00  88864452          NaN  \n",
       "2019-01-09 00:00:00-05:00  77555720     0.004130  \n",
       "2019-01-10 00:00:00-05:00  85909797     0.004773  \n",
       "2019-01-11 00:00:00-05:00  60544770    -0.000695  \n",
       "2019-01-14 00:00:00-05:00  51552561    -0.004135  "
      ]
     },
     "execution_count": 37,
     "metadata": {},
     "output_type": "execute_result"
    }
   ],
   "source": [
    "# Configure the Monte Carlo simulation to forecast 30 years cumulative returns\n",
    "# The weights should be split 40% to AGG and 60% to SPY.\n",
    "# Run 500 samples.\n",
    "thirty_year_simulation = MCSimulation(\n",
    "portfolio_data = portfolio_prices_mc_df,\n",
    "weights=[0.40,0.60],\n",
    "num_simulation=500,\n",
    "num_trading_days=252*30)\n",
    "\n",
    "# Review the simulation input data\n",
    "thirty_year_simulation.portfolio_data.head()\n"
   ]
  },
  {
   "cell_type": "code",
   "execution_count": 38,
   "metadata": {},
   "outputs": [
    {
     "name": "stdout",
     "output_type": "stream",
     "text": [
      "Running Monte Carlo simulation number 0.\n",
      "Running Monte Carlo simulation number 10.\n",
      "Running Monte Carlo simulation number 20.\n",
      "Running Monte Carlo simulation number 30.\n",
      "Running Monte Carlo simulation number 40.\n",
      "Running Monte Carlo simulation number 50.\n",
      "Running Monte Carlo simulation number 60.\n",
      "Running Monte Carlo simulation number 70.\n",
      "Running Monte Carlo simulation number 80.\n",
      "Running Monte Carlo simulation number 90.\n",
      "Running Monte Carlo simulation number 100.\n"
     ]
    },
    {
     "name": "stderr",
     "output_type": "stream",
     "text": [
      "/Users/tmorbiwala/Desktop/Fintech2021/Module5/Challenge5_financial_planner/Challenge5_financial_planner/Starter_Code/MCForecastTools.py:117: PerformanceWarning: DataFrame is highly fragmented.  This is usually the result of calling `frame.insert` many times, which has poor performance.  Consider joining all columns at once using pd.concat(axis=1) instead.  To get a de-fragmented frame, use `newframe = frame.copy()`\n",
      "  portfolio_cumulative_returns[n] = (1 + sim_df.fillna(0)).cumprod()\n"
     ]
    },
    {
     "name": "stdout",
     "output_type": "stream",
     "text": [
      "Running Monte Carlo simulation number 110.\n",
      "Running Monte Carlo simulation number 120.\n",
      "Running Monte Carlo simulation number 130.\n",
      "Running Monte Carlo simulation number 140.\n",
      "Running Monte Carlo simulation number 150.\n",
      "Running Monte Carlo simulation number 160.\n",
      "Running Monte Carlo simulation number 170.\n",
      "Running Monte Carlo simulation number 180.\n",
      "Running Monte Carlo simulation number 190.\n",
      "Running Monte Carlo simulation number 200.\n",
      "Running Monte Carlo simulation number 210.\n",
      "Running Monte Carlo simulation number 220.\n",
      "Running Monte Carlo simulation number 230.\n",
      "Running Monte Carlo simulation number 240.\n",
      "Running Monte Carlo simulation number 250.\n",
      "Running Monte Carlo simulation number 260.\n",
      "Running Monte Carlo simulation number 270.\n",
      "Running Monte Carlo simulation number 280.\n",
      "Running Monte Carlo simulation number 290.\n",
      "Running Monte Carlo simulation number 300.\n",
      "Running Monte Carlo simulation number 310.\n",
      "Running Monte Carlo simulation number 320.\n",
      "Running Monte Carlo simulation number 330.\n",
      "Running Monte Carlo simulation number 340.\n",
      "Running Monte Carlo simulation number 350.\n",
      "Running Monte Carlo simulation number 360.\n",
      "Running Monte Carlo simulation number 370.\n",
      "Running Monte Carlo simulation number 380.\n",
      "Running Monte Carlo simulation number 390.\n",
      "Running Monte Carlo simulation number 400.\n",
      "Running Monte Carlo simulation number 410.\n",
      "Running Monte Carlo simulation number 420.\n",
      "Running Monte Carlo simulation number 430.\n",
      "Running Monte Carlo simulation number 440.\n",
      "Running Monte Carlo simulation number 450.\n",
      "Running Monte Carlo simulation number 460.\n",
      "Running Monte Carlo simulation number 470.\n",
      "Running Monte Carlo simulation number 480.\n",
      "Running Monte Carlo simulation number 490.\n"
     ]
    },
    {
     "data": {
      "text/html": [
       "<div>\n",
       "<style scoped>\n",
       "    .dataframe tbody tr th:only-of-type {\n",
       "        vertical-align: middle;\n",
       "    }\n",
       "\n",
       "    .dataframe tbody tr th {\n",
       "        vertical-align: top;\n",
       "    }\n",
       "\n",
       "    .dataframe thead th {\n",
       "        text-align: right;\n",
       "    }\n",
       "</style>\n",
       "<table border=\"1\" class=\"dataframe\">\n",
       "  <thead>\n",
       "    <tr style=\"text-align: right;\">\n",
       "      <th></th>\n",
       "      <th>0</th>\n",
       "      <th>1</th>\n",
       "      <th>2</th>\n",
       "      <th>3</th>\n",
       "      <th>4</th>\n",
       "      <th>5</th>\n",
       "      <th>6</th>\n",
       "      <th>7</th>\n",
       "      <th>8</th>\n",
       "      <th>9</th>\n",
       "      <th>...</th>\n",
       "      <th>490</th>\n",
       "      <th>491</th>\n",
       "      <th>492</th>\n",
       "      <th>493</th>\n",
       "      <th>494</th>\n",
       "      <th>495</th>\n",
       "      <th>496</th>\n",
       "      <th>497</th>\n",
       "      <th>498</th>\n",
       "      <th>499</th>\n",
       "    </tr>\n",
       "  </thead>\n",
       "  <tbody>\n",
       "    <tr>\n",
       "      <th>0</th>\n",
       "      <td>1.000000</td>\n",
       "      <td>1.000000</td>\n",
       "      <td>1.000000</td>\n",
       "      <td>1.000000</td>\n",
       "      <td>1.000000</td>\n",
       "      <td>1.000000</td>\n",
       "      <td>1.000000</td>\n",
       "      <td>1.000000</td>\n",
       "      <td>1.000000</td>\n",
       "      <td>1.000000</td>\n",
       "      <td>...</td>\n",
       "      <td>1.000000</td>\n",
       "      <td>1.000000</td>\n",
       "      <td>1.000000</td>\n",
       "      <td>1.000000</td>\n",
       "      <td>1.000000</td>\n",
       "      <td>1.000000</td>\n",
       "      <td>1.000000</td>\n",
       "      <td>1.000000</td>\n",
       "      <td>1.000000</td>\n",
       "      <td>1.000000</td>\n",
       "    </tr>\n",
       "    <tr>\n",
       "      <th>1</th>\n",
       "      <td>0.997835</td>\n",
       "      <td>1.002308</td>\n",
       "      <td>1.001047</td>\n",
       "      <td>0.995173</td>\n",
       "      <td>1.013571</td>\n",
       "      <td>1.003242</td>\n",
       "      <td>1.003445</td>\n",
       "      <td>0.992114</td>\n",
       "      <td>1.012737</td>\n",
       "      <td>1.000741</td>\n",
       "      <td>...</td>\n",
       "      <td>0.996885</td>\n",
       "      <td>0.997636</td>\n",
       "      <td>1.016148</td>\n",
       "      <td>1.011239</td>\n",
       "      <td>1.010165</td>\n",
       "      <td>0.998741</td>\n",
       "      <td>1.013786</td>\n",
       "      <td>0.998157</td>\n",
       "      <td>1.014283</td>\n",
       "      <td>0.994738</td>\n",
       "    </tr>\n",
       "    <tr>\n",
       "      <th>2</th>\n",
       "      <td>0.994737</td>\n",
       "      <td>1.012352</td>\n",
       "      <td>0.990342</td>\n",
       "      <td>0.995677</td>\n",
       "      <td>1.019048</td>\n",
       "      <td>1.004351</td>\n",
       "      <td>1.018121</td>\n",
       "      <td>0.982276</td>\n",
       "      <td>1.016312</td>\n",
       "      <td>0.992599</td>\n",
       "      <td>...</td>\n",
       "      <td>0.986019</td>\n",
       "      <td>1.011008</td>\n",
       "      <td>1.008824</td>\n",
       "      <td>1.001587</td>\n",
       "      <td>1.026843</td>\n",
       "      <td>0.996453</td>\n",
       "      <td>0.997116</td>\n",
       "      <td>0.997049</td>\n",
       "      <td>1.015359</td>\n",
       "      <td>0.999687</td>\n",
       "    </tr>\n",
       "    <tr>\n",
       "      <th>3</th>\n",
       "      <td>0.988207</td>\n",
       "      <td>0.997310</td>\n",
       "      <td>0.997580</td>\n",
       "      <td>0.991701</td>\n",
       "      <td>1.016551</td>\n",
       "      <td>1.024956</td>\n",
       "      <td>1.037562</td>\n",
       "      <td>0.982039</td>\n",
       "      <td>1.008482</td>\n",
       "      <td>0.982677</td>\n",
       "      <td>...</td>\n",
       "      <td>0.981550</td>\n",
       "      <td>1.017498</td>\n",
       "      <td>1.013400</td>\n",
       "      <td>0.990838</td>\n",
       "      <td>1.016788</td>\n",
       "      <td>0.997649</td>\n",
       "      <td>0.994515</td>\n",
       "      <td>0.979624</td>\n",
       "      <td>1.010865</td>\n",
       "      <td>1.000404</td>\n",
       "    </tr>\n",
       "    <tr>\n",
       "      <th>4</th>\n",
       "      <td>0.991124</td>\n",
       "      <td>0.984258</td>\n",
       "      <td>0.998280</td>\n",
       "      <td>1.000624</td>\n",
       "      <td>1.019883</td>\n",
       "      <td>1.009553</td>\n",
       "      <td>1.029043</td>\n",
       "      <td>0.985247</td>\n",
       "      <td>1.023337</td>\n",
       "      <td>0.983569</td>\n",
       "      <td>...</td>\n",
       "      <td>0.980129</td>\n",
       "      <td>1.019319</td>\n",
       "      <td>1.012411</td>\n",
       "      <td>0.995124</td>\n",
       "      <td>1.019676</td>\n",
       "      <td>1.005844</td>\n",
       "      <td>0.993680</td>\n",
       "      <td>0.987949</td>\n",
       "      <td>1.010544</td>\n",
       "      <td>1.004742</td>\n",
       "    </tr>\n",
       "    <tr>\n",
       "      <th>...</th>\n",
       "      <td>...</td>\n",
       "      <td>...</td>\n",
       "      <td>...</td>\n",
       "      <td>...</td>\n",
       "      <td>...</td>\n",
       "      <td>...</td>\n",
       "      <td>...</td>\n",
       "      <td>...</td>\n",
       "      <td>...</td>\n",
       "      <td>...</td>\n",
       "      <td>...</td>\n",
       "      <td>...</td>\n",
       "      <td>...</td>\n",
       "      <td>...</td>\n",
       "      <td>...</td>\n",
       "      <td>...</td>\n",
       "      <td>...</td>\n",
       "      <td>...</td>\n",
       "      <td>...</td>\n",
       "      <td>...</td>\n",
       "      <td>...</td>\n",
       "    </tr>\n",
       "    <tr>\n",
       "      <th>7556</th>\n",
       "      <td>60.738086</td>\n",
       "      <td>45.850855</td>\n",
       "      <td>101.068965</td>\n",
       "      <td>25.348682</td>\n",
       "      <td>73.565533</td>\n",
       "      <td>53.172143</td>\n",
       "      <td>69.008562</td>\n",
       "      <td>31.073748</td>\n",
       "      <td>24.731405</td>\n",
       "      <td>26.141881</td>\n",
       "      <td>...</td>\n",
       "      <td>66.171442</td>\n",
       "      <td>44.470588</td>\n",
       "      <td>171.314704</td>\n",
       "      <td>71.951789</td>\n",
       "      <td>9.567440</td>\n",
       "      <td>51.504059</td>\n",
       "      <td>77.844783</td>\n",
       "      <td>89.188238</td>\n",
       "      <td>45.719139</td>\n",
       "      <td>41.019577</td>\n",
       "    </tr>\n",
       "    <tr>\n",
       "      <th>7557</th>\n",
       "      <td>59.863522</td>\n",
       "      <td>46.229268</td>\n",
       "      <td>101.275219</td>\n",
       "      <td>25.525241</td>\n",
       "      <td>74.505381</td>\n",
       "      <td>52.928092</td>\n",
       "      <td>68.630044</td>\n",
       "      <td>31.521432</td>\n",
       "      <td>24.700947</td>\n",
       "      <td>26.161627</td>\n",
       "      <td>...</td>\n",
       "      <td>65.590557</td>\n",
       "      <td>44.310941</td>\n",
       "      <td>173.403350</td>\n",
       "      <td>72.510654</td>\n",
       "      <td>9.574385</td>\n",
       "      <td>52.238285</td>\n",
       "      <td>78.662514</td>\n",
       "      <td>89.723061</td>\n",
       "      <td>44.762717</td>\n",
       "      <td>40.633806</td>\n",
       "    </tr>\n",
       "    <tr>\n",
       "      <th>7558</th>\n",
       "      <td>60.253777</td>\n",
       "      <td>46.335637</td>\n",
       "      <td>100.367422</td>\n",
       "      <td>25.798357</td>\n",
       "      <td>75.608189</td>\n",
       "      <td>53.369108</td>\n",
       "      <td>68.487496</td>\n",
       "      <td>31.455076</td>\n",
       "      <td>24.869824</td>\n",
       "      <td>26.125146</td>\n",
       "      <td>...</td>\n",
       "      <td>65.758079</td>\n",
       "      <td>44.047901</td>\n",
       "      <td>174.347189</td>\n",
       "      <td>72.249617</td>\n",
       "      <td>9.582973</td>\n",
       "      <td>52.640763</td>\n",
       "      <td>78.235783</td>\n",
       "      <td>90.041209</td>\n",
       "      <td>44.778754</td>\n",
       "      <td>40.654450</td>\n",
       "    </tr>\n",
       "    <tr>\n",
       "      <th>7559</th>\n",
       "      <td>61.094731</td>\n",
       "      <td>46.191123</td>\n",
       "      <td>101.812824</td>\n",
       "      <td>25.837313</td>\n",
       "      <td>75.740268</td>\n",
       "      <td>52.772983</td>\n",
       "      <td>68.299783</td>\n",
       "      <td>31.120470</td>\n",
       "      <td>25.036790</td>\n",
       "      <td>26.135235</td>\n",
       "      <td>...</td>\n",
       "      <td>66.619367</td>\n",
       "      <td>44.560338</td>\n",
       "      <td>176.128670</td>\n",
       "      <td>71.906188</td>\n",
       "      <td>9.611560</td>\n",
       "      <td>52.650511</td>\n",
       "      <td>77.931145</td>\n",
       "      <td>89.548045</td>\n",
       "      <td>44.833939</td>\n",
       "      <td>40.897375</td>\n",
       "    </tr>\n",
       "    <tr>\n",
       "      <th>7560</th>\n",
       "      <td>60.847266</td>\n",
       "      <td>45.445465</td>\n",
       "      <td>101.746163</td>\n",
       "      <td>25.379716</td>\n",
       "      <td>75.987451</td>\n",
       "      <td>52.699687</td>\n",
       "      <td>67.998921</td>\n",
       "      <td>31.317903</td>\n",
       "      <td>24.859358</td>\n",
       "      <td>26.223948</td>\n",
       "      <td>...</td>\n",
       "      <td>66.759908</td>\n",
       "      <td>44.429403</td>\n",
       "      <td>174.741621</td>\n",
       "      <td>71.038855</td>\n",
       "      <td>9.471572</td>\n",
       "      <td>52.807959</td>\n",
       "      <td>77.037975</td>\n",
       "      <td>90.174280</td>\n",
       "      <td>44.957419</td>\n",
       "      <td>40.682384</td>\n",
       "    </tr>\n",
       "  </tbody>\n",
       "</table>\n",
       "<p>7561 rows × 500 columns</p>\n",
       "</div>"
      ],
      "text/plain": [
       "            0          1           2          3          4          5    \\\n",
       "0      1.000000   1.000000    1.000000   1.000000   1.000000   1.000000   \n",
       "1      0.997835   1.002308    1.001047   0.995173   1.013571   1.003242   \n",
       "2      0.994737   1.012352    0.990342   0.995677   1.019048   1.004351   \n",
       "3      0.988207   0.997310    0.997580   0.991701   1.016551   1.024956   \n",
       "4      0.991124   0.984258    0.998280   1.000624   1.019883   1.009553   \n",
       "...         ...        ...         ...        ...        ...        ...   \n",
       "7556  60.738086  45.850855  101.068965  25.348682  73.565533  53.172143   \n",
       "7557  59.863522  46.229268  101.275219  25.525241  74.505381  52.928092   \n",
       "7558  60.253777  46.335637  100.367422  25.798357  75.608189  53.369108   \n",
       "7559  61.094731  46.191123  101.812824  25.837313  75.740268  52.772983   \n",
       "7560  60.847266  45.445465  101.746163  25.379716  75.987451  52.699687   \n",
       "\n",
       "            6          7          8          9    ...        490        491  \\\n",
       "0      1.000000   1.000000   1.000000   1.000000  ...   1.000000   1.000000   \n",
       "1      1.003445   0.992114   1.012737   1.000741  ...   0.996885   0.997636   \n",
       "2      1.018121   0.982276   1.016312   0.992599  ...   0.986019   1.011008   \n",
       "3      1.037562   0.982039   1.008482   0.982677  ...   0.981550   1.017498   \n",
       "4      1.029043   0.985247   1.023337   0.983569  ...   0.980129   1.019319   \n",
       "...         ...        ...        ...        ...  ...        ...        ...   \n",
       "7556  69.008562  31.073748  24.731405  26.141881  ...  66.171442  44.470588   \n",
       "7557  68.630044  31.521432  24.700947  26.161627  ...  65.590557  44.310941   \n",
       "7558  68.487496  31.455076  24.869824  26.125146  ...  65.758079  44.047901   \n",
       "7559  68.299783  31.120470  25.036790  26.135235  ...  66.619367  44.560338   \n",
       "7560  67.998921  31.317903  24.859358  26.223948  ...  66.759908  44.429403   \n",
       "\n",
       "             492        493       494        495        496        497  \\\n",
       "0       1.000000   1.000000  1.000000   1.000000   1.000000   1.000000   \n",
       "1       1.016148   1.011239  1.010165   0.998741   1.013786   0.998157   \n",
       "2       1.008824   1.001587  1.026843   0.996453   0.997116   0.997049   \n",
       "3       1.013400   0.990838  1.016788   0.997649   0.994515   0.979624   \n",
       "4       1.012411   0.995124  1.019676   1.005844   0.993680   0.987949   \n",
       "...          ...        ...       ...        ...        ...        ...   \n",
       "7556  171.314704  71.951789  9.567440  51.504059  77.844783  89.188238   \n",
       "7557  173.403350  72.510654  9.574385  52.238285  78.662514  89.723061   \n",
       "7558  174.347189  72.249617  9.582973  52.640763  78.235783  90.041209   \n",
       "7559  176.128670  71.906188  9.611560  52.650511  77.931145  89.548045   \n",
       "7560  174.741621  71.038855  9.471572  52.807959  77.037975  90.174280   \n",
       "\n",
       "            498        499  \n",
       "0      1.000000   1.000000  \n",
       "1      1.014283   0.994738  \n",
       "2      1.015359   0.999687  \n",
       "3      1.010865   1.000404  \n",
       "4      1.010544   1.004742  \n",
       "...         ...        ...  \n",
       "7556  45.719139  41.019577  \n",
       "7557  44.762717  40.633806  \n",
       "7558  44.778754  40.654450  \n",
       "7559  44.833939  40.897375  \n",
       "7560  44.957419  40.682384  \n",
       "\n",
       "[7561 rows x 500 columns]"
      ]
     },
     "execution_count": 38,
     "metadata": {},
     "output_type": "execute_result"
    }
   ],
   "source": [
    "# Run the Monte Carlo simulation to forecast 30 years cumulative returns\n",
    "thirty_year_simulation.calc_cumulative_return()\n"
   ]
  },
  {
   "cell_type": "code",
   "execution_count": 39,
   "metadata": {},
   "outputs": [
    {
     "data": {
      "image/png": "[encoded data removed]",
      "text/plain": [
       "<Figure size 432x288 with 1 Axes>"
      ]
     },
     "metadata": {
      "needs_background": "light"
     },
     "output_type": "display_data"
    }
   ],
   "source": [
    "# Visualize the 30-year Monte Carlo simulation by creating an\n",
    "# overlay line plot\n",
    "MC_sim_line_plot = thirty_year_simulation.plot_simulation()\n"
   ]
  },
  {
   "cell_type": "markdown",
   "metadata": {},
   "source": [
    "#### Step 3: Plot the probability distribution of the Monte Carlo simulation."
   ]
  },
  {
   "cell_type": "code",
   "execution_count": 40,
   "metadata": {},
   "outputs": [
    {
     "data": {
      "image/png": "[encoded data removed]",
      "text/plain": [
       "<Figure size 432x288 with 1 Axes>"
      ]
     },
     "metadata": {
      "needs_background": "light"
     },
     "output_type": "display_data"
    }
   ],
   "source": [
    "# Visualize the probability distribution of the 30-year Monte Carlo simulation \n",
    "# by plotting a histogram\n",
    "MC_sim_dist_plot = thirty_year_simulation.plot_distribution()\n"
   ]
  },
  {
   "cell_type": "markdown",
   "metadata": {},
   "source": [
    "#### Step 4: Generate the summary statistics for the Monte Carlo simulation."
   ]
  },
  {
   "cell_type": "code",
   "execution_count": 41,
   "metadata": {},
   "outputs": [
    {
     "name": "stdout",
     "output_type": "stream",
     "text": [
      "count           500.000000\n",
      "mean             67.647723\n",
      "std              55.948326\n",
      "min               5.069130\n",
      "25%              31.497113\n",
      "50%              51.881336\n",
      "75%              83.687830\n",
      "max             365.310044\n",
      "95% CI Lower     12.831242\n",
      "95% CI Upper    226.027243\n",
      "Name: 7560, dtype: float64\n"
     ]
    }
   ],
   "source": [
    "# Generate summary statistics from the 30-year Monte Carlo simulation results\n",
    "# Save the results as a variable\n",
    "MC_summary_statistics = thirty_year_simulation.summarize_cumulative_return()\n",
    "\n",
    "\n",
    "# Review the 30-year Monte Carlo summary statistics\n",
    "print(MC_summary_statistics)"
   ]
  },
  {
   "cell_type": "markdown",
   "metadata": {},
   "source": [
    "### Analyze the Retirement Portfolio Forecasts\n",
    "\n",
    "Using the current value of only the stock and bond portion of the member's portfolio and the summary statistics that you generated from the Monte Carlo simulation, answer the following question in your Jupyter notebook:\n",
    "\n",
    "-  What are the lower and upper bounds for the expected value of the portfolio with a 95% confidence interval?\n"
   ]
  },
  {
   "cell_type": "code",
   "execution_count": 46,
   "metadata": {},
   "outputs": [
    {
     "name": "stdout",
     "output_type": "stream",
     "text": [
      "The current balance is:75184.1\n"
     ]
    }
   ],
   "source": [
    "# Print the current balance of the stock and bond portion of the members portfolio\n",
    "print(f\"The current balance is:{total_stocks_bonds}\")\n"
   ]
  },
  {
   "cell_type": "code",
   "execution_count": 49,
   "metadata": {},
   "outputs": [
    {
     "name": "stdout",
     "output_type": "stream",
     "text": [
      "There is a 95% chance that an initial investment of 75184.1 in the portfolio over the next 30 years will end within in the range of $ 964705.37 and $ 16993654.81.\n"
     ]
    }
   ],
   "source": [
    "# Use the lower and upper `95%` confidence intervals to calculate the range of the possible outcomes for the current stock/bond portfolio\n",
    "ci_lower_thirty_cumulative_return = MC_summary_statistics[8] * total_stocks_bonds\n",
    "ci_upper_thirty_cumulative_return = MC_summary_statistics[9] * total_stocks_bonds\n",
    "\n",
    "# Print the result of your calculations\n",
    "print(f\"There is a 95% chance that an initial investment of {total_stocks_bonds} in the portfolio\"\n",
    "  f\" over the next 30 years will end within in the range of\"\n",
    "  f\" ${ci_lower_thirty_cumulative_return: .2f} and ${ci_upper_thirty_cumulative_return: .2f}.\")\n"
   ]
  },
  {
   "cell_type": "markdown",
   "metadata": {},
   "source": [
    "### Forecast Cumulative Returns in 10 Years\n",
    "\n",
    "The CTO of the credit union is impressed with your work on these planning tools but wonders if 30 years is a long time to wait until retirement. So, your next task is to adjust the retirement portfolio and run a new Monte Carlo simulation to find out if the changes will allow members to retire earlier.\n",
    "\n",
    "For this new Monte Carlo simulation, do the following: \n",
    "\n",
    "- Forecast the cumulative returns for 10 years from now. Because of the shortened investment horizon (30 years to 10 years), the portfolio needs to invest more heavily in the riskier asset&mdash;that is, stock&mdash;to help accumulate wealth for retirement. \n",
    "\n",
    "- Adjust the weights of the retirement portfolio so that the composition for the Monte Carlo simulation consists of 20% bonds and 80% stocks. \n",
    "\n",
    "- Run the simulation over 500 samples, and use the same data that the API call to Alpaca generated.\n",
    "\n",
    "- Based on the new Monte Carlo simulation, answer the following questions in your Jupyter notebook:\n",
    "\n",
    "    - Using the current value of only the stock and bond portion of the member's portfolio and the summary statistics that you generated from the new Monte Carlo simulation, what are the lower and upper bounds for the expected value of the portfolio (with the new weights) with a 95% confidence interval?\n",
    "\n",
    "    - Will weighting the portfolio more heavily toward stocks allow the credit union members to retire after only 10 years?\n"
   ]
  },
  {
   "cell_type": "code",
   "execution_count": 50,
   "metadata": {},
   "outputs": [
    {
     "data": {
      "text/html": [
       "<div>\n",
       "<style scoped>\n",
       "    .dataframe tbody tr th:only-of-type {\n",
       "        vertical-align: middle;\n",
       "    }\n",
       "\n",
       "    .dataframe tbody tr th {\n",
       "        vertical-align: top;\n",
       "    }\n",
       "\n",
       "    .dataframe thead tr th {\n",
       "        text-align: left;\n",
       "    }\n",
       "\n",
       "    .dataframe thead tr:last-of-type th {\n",
       "        text-align: right;\n",
       "    }\n",
       "</style>\n",
       "<table border=\"1\" class=\"dataframe\">\n",
       "  <thead>\n",
       "    <tr>\n",
       "      <th></th>\n",
       "      <th colspan=\"6\" halign=\"left\">AGG</th>\n",
       "      <th colspan=\"6\" halign=\"left\">SPY</th>\n",
       "    </tr>\n",
       "    <tr>\n",
       "      <th></th>\n",
       "      <th>open</th>\n",
       "      <th>high</th>\n",
       "      <th>low</th>\n",
       "      <th>close</th>\n",
       "      <th>volume</th>\n",
       "      <th>daily_return</th>\n",
       "      <th>open</th>\n",
       "      <th>high</th>\n",
       "      <th>low</th>\n",
       "      <th>close</th>\n",
       "      <th>volume</th>\n",
       "      <th>daily_return</th>\n",
       "    </tr>\n",
       "    <tr>\n",
       "      <th>time</th>\n",
       "      <th></th>\n",
       "      <th></th>\n",
       "      <th></th>\n",
       "      <th></th>\n",
       "      <th></th>\n",
       "      <th></th>\n",
       "      <th></th>\n",
       "      <th></th>\n",
       "      <th></th>\n",
       "      <th></th>\n",
       "      <th></th>\n",
       "      <th></th>\n",
       "    </tr>\n",
       "  </thead>\n",
       "  <tbody>\n",
       "    <tr>\n",
       "      <th>2019-01-08 00:00:00-05:00</th>\n",
       "      <td>106.40</td>\n",
       "      <td>106.5300</td>\n",
       "      <td>105.53</td>\n",
       "      <td>106.420</td>\n",
       "      <td>3818241.0</td>\n",
       "      <td>NaN</td>\n",
       "      <td>256.82</td>\n",
       "      <td>257.3100</td>\n",
       "      <td>254.00</td>\n",
       "      <td>256.65</td>\n",
       "      <td>88864452</td>\n",
       "      <td>NaN</td>\n",
       "    </tr>\n",
       "    <tr>\n",
       "      <th>2019-01-09 00:00:00-05:00</th>\n",
       "      <td>106.42</td>\n",
       "      <td>106.5700</td>\n",
       "      <td>105.95</td>\n",
       "      <td>106.480</td>\n",
       "      <td>5163839.0</td>\n",
       "      <td>0.000564</td>\n",
       "      <td>257.56</td>\n",
       "      <td>258.9100</td>\n",
       "      <td>241.40</td>\n",
       "      <td>257.71</td>\n",
       "      <td>77555720</td>\n",
       "      <td>0.004130</td>\n",
       "    </tr>\n",
       "    <tr>\n",
       "      <th>2019-01-10 00:00:00-05:00</th>\n",
       "      <td>106.52</td>\n",
       "      <td>106.5600</td>\n",
       "      <td>106.33</td>\n",
       "      <td>106.385</td>\n",
       "      <td>3441214.0</td>\n",
       "      <td>-0.000892</td>\n",
       "      <td>256.26</td>\n",
       "      <td>259.1600</td>\n",
       "      <td>255.50</td>\n",
       "      <td>258.94</td>\n",
       "      <td>85909797</td>\n",
       "      <td>0.004773</td>\n",
       "    </tr>\n",
       "    <tr>\n",
       "      <th>2019-01-11 00:00:00-05:00</th>\n",
       "      <td>106.58</td>\n",
       "      <td>106.6600</td>\n",
       "      <td>106.50</td>\n",
       "      <td>106.560</td>\n",
       "      <td>5638395.0</td>\n",
       "      <td>0.001645</td>\n",
       "      <td>257.68</td>\n",
       "      <td>259.0098</td>\n",
       "      <td>257.03</td>\n",
       "      <td>258.76</td>\n",
       "      <td>60544770</td>\n",
       "      <td>-0.000695</td>\n",
       "    </tr>\n",
       "    <tr>\n",
       "      <th>2019-01-14 00:00:00-05:00</th>\n",
       "      <td>106.57</td>\n",
       "      <td>106.6099</td>\n",
       "      <td>106.40</td>\n",
       "      <td>106.440</td>\n",
       "      <td>6544627.0</td>\n",
       "      <td>-0.001126</td>\n",
       "      <td>256.86</td>\n",
       "      <td>258.3000</td>\n",
       "      <td>256.41</td>\n",
       "      <td>257.69</td>\n",
       "      <td>51552561</td>\n",
       "      <td>-0.004135</td>\n",
       "    </tr>\n",
       "  </tbody>\n",
       "</table>\n",
       "</div>"
      ],
      "text/plain": [
       "                              AGG                                        \\\n",
       "                             open      high     low    close     volume   \n",
       "time                                                                      \n",
       "2019-01-08 00:00:00-05:00  106.40  106.5300  105.53  106.420  3818241.0   \n",
       "2019-01-09 00:00:00-05:00  106.42  106.5700  105.95  106.480  5163839.0   \n",
       "2019-01-10 00:00:00-05:00  106.52  106.5600  106.33  106.385  3441214.0   \n",
       "2019-01-11 00:00:00-05:00  106.58  106.6600  106.50  106.560  5638395.0   \n",
       "2019-01-14 00:00:00-05:00  106.57  106.6099  106.40  106.440  6544627.0   \n",
       "\n",
       "                                           SPY                            \\\n",
       "                          daily_return    open      high     low   close   \n",
       "time                                                                       \n",
       "2019-01-08 00:00:00-05:00          NaN  256.82  257.3100  254.00  256.65   \n",
       "2019-01-09 00:00:00-05:00     0.000564  257.56  258.9100  241.40  257.71   \n",
       "2019-01-10 00:00:00-05:00    -0.000892  256.26  259.1600  255.50  258.94   \n",
       "2019-01-11 00:00:00-05:00     0.001645  257.68  259.0098  257.03  258.76   \n",
       "2019-01-14 00:00:00-05:00    -0.001126  256.86  258.3000  256.41  257.69   \n",
       "\n",
       "                                                  \n",
       "                             volume daily_return  \n",
       "time                                              \n",
       "2019-01-08 00:00:00-05:00  88864452          NaN  \n",
       "2019-01-09 00:00:00-05:00  77555720     0.004130  \n",
       "2019-01-10 00:00:00-05:00  85909797     0.004773  \n",
       "2019-01-11 00:00:00-05:00  60544770    -0.000695  \n",
       "2019-01-14 00:00:00-05:00  51552561    -0.004135  "
      ]
     },
     "execution_count": 50,
     "metadata": {},
     "output_type": "execute_result"
    }
   ],
   "source": [
    "# Configure a Monte Carlo simulation to forecast 10 years cumulative returns\n",
    "# The weights should be split 20% to AGG and 80% to SPY.\n",
    "# Run 500 samples.\n",
    "ten_year_simulation = MCSimulation(\n",
    "portfolio_data = portfolio_prices_mc_df,\n",
    "weights=[0.20,0.80],\n",
    "num_simulation=500,\n",
    "num_trading_days=252*10)\n",
    "\n",
    "# Review the simulation input data\n",
    "ten_year_simulation.portfolio_data.head()\n",
    "\n"
   ]
  },
  {
   "cell_type": "code",
   "execution_count": 51,
   "metadata": {},
   "outputs": [
    {
     "name": "stdout",
     "output_type": "stream",
     "text": [
      "Running Monte Carlo simulation number 0.\n",
      "Running Monte Carlo simulation number 10.\n",
      "Running Monte Carlo simulation number 20.\n",
      "Running Monte Carlo simulation number 30.\n",
      "Running Monte Carlo simulation number 40.\n",
      "Running Monte Carlo simulation number 50.\n",
      "Running Monte Carlo simulation number 60.\n",
      "Running Monte Carlo simulation number 70.\n",
      "Running Monte Carlo simulation number 80.\n",
      "Running Monte Carlo simulation number 90.\n",
      "Running Monte Carlo simulation number 100.\n"
     ]
    },
    {
     "name": "stderr",
     "output_type": "stream",
     "text": [
      "/Users/tmorbiwala/Desktop/Fintech2021/Module5/Challenge5_financial_planner/Challenge5_financial_planner/Starter_Code/MCForecastTools.py:117: PerformanceWarning: DataFrame is highly fragmented.  This is usually the result of calling `frame.insert` many times, which has poor performance.  Consider joining all columns at once using pd.concat(axis=1) instead.  To get a de-fragmented frame, use `newframe = frame.copy()`\n",
      "  portfolio_cumulative_returns[n] = (1 + sim_df.fillna(0)).cumprod()\n"
     ]
    },
    {
     "name": "stdout",
     "output_type": "stream",
     "text": [
      "Running Monte Carlo simulation number 110.\n",
      "Running Monte Carlo simulation number 120.\n",
      "Running Monte Carlo simulation number 130.\n",
      "Running Monte Carlo simulation number 140.\n",
      "Running Monte Carlo simulation number 150.\n",
      "Running Monte Carlo simulation number 160.\n",
      "Running Monte Carlo simulation number 170.\n",
      "Running Monte Carlo simulation number 180.\n",
      "Running Monte Carlo simulation number 190.\n",
      "Running Monte Carlo simulation number 200.\n",
      "Running Monte Carlo simulation number 210.\n",
      "Running Monte Carlo simulation number 220.\n",
      "Running Monte Carlo simulation number 230.\n",
      "Running Monte Carlo simulation number 240.\n",
      "Running Monte Carlo simulation number 250.\n",
      "Running Monte Carlo simulation number 260.\n",
      "Running Monte Carlo simulation number 270.\n",
      "Running Monte Carlo simulation number 280.\n",
      "Running Monte Carlo simulation number 290.\n",
      "Running Monte Carlo simulation number 300.\n",
      "Running Monte Carlo simulation number 310.\n",
      "Running Monte Carlo simulation number 320.\n",
      "Running Monte Carlo simulation number 330.\n",
      "Running Monte Carlo simulation number 340.\n",
      "Running Monte Carlo simulation number 350.\n",
      "Running Monte Carlo simulation number 360.\n",
      "Running Monte Carlo simulation number 370.\n",
      "Running Monte Carlo simulation number 380.\n",
      "Running Monte Carlo simulation number 390.\n",
      "Running Monte Carlo simulation number 400.\n",
      "Running Monte Carlo simulation number 410.\n",
      "Running Monte Carlo simulation number 420.\n",
      "Running Monte Carlo simulation number 430.\n",
      "Running Monte Carlo simulation number 440.\n",
      "Running Monte Carlo simulation number 450.\n",
      "Running Monte Carlo simulation number 460.\n",
      "Running Monte Carlo simulation number 470.\n",
      "Running Monte Carlo simulation number 480.\n",
      "Running Monte Carlo simulation number 490.\n"
     ]
    },
    {
     "data": {
      "text/html": [
       "<div>\n",
       "<style scoped>\n",
       "    .dataframe tbody tr th:only-of-type {\n",
       "        vertical-align: middle;\n",
       "    }\n",
       "\n",
       "    .dataframe tbody tr th {\n",
       "        vertical-align: top;\n",
       "    }\n",
       "\n",
       "    .dataframe thead th {\n",
       "        text-align: right;\n",
       "    }\n",
       "</style>\n",
       "<table border=\"1\" class=\"dataframe\">\n",
       "  <thead>\n",
       "    <tr style=\"text-align: right;\">\n",
       "      <th></th>\n",
       "      <th>0</th>\n",
       "      <th>1</th>\n",
       "      <th>2</th>\n",
       "      <th>3</th>\n",
       "      <th>4</th>\n",
       "      <th>5</th>\n",
       "      <th>6</th>\n",
       "      <th>7</th>\n",
       "      <th>8</th>\n",
       "      <th>9</th>\n",
       "      <th>...</th>\n",
       "      <th>490</th>\n",
       "      <th>491</th>\n",
       "      <th>492</th>\n",
       "      <th>493</th>\n",
       "      <th>494</th>\n",
       "      <th>495</th>\n",
       "      <th>496</th>\n",
       "      <th>497</th>\n",
       "      <th>498</th>\n",
       "      <th>499</th>\n",
       "    </tr>\n",
       "  </thead>\n",
       "  <tbody>\n",
       "    <tr>\n",
       "      <th>0</th>\n",
       "      <td>1.000000</td>\n",
       "      <td>1.000000</td>\n",
       "      <td>1.000000</td>\n",
       "      <td>1.000000</td>\n",
       "      <td>1.000000</td>\n",
       "      <td>1.000000</td>\n",
       "      <td>1.000000</td>\n",
       "      <td>1.000000</td>\n",
       "      <td>1.000000</td>\n",
       "      <td>1.000000</td>\n",
       "      <td>...</td>\n",
       "      <td>1.000000</td>\n",
       "      <td>1.000000</td>\n",
       "      <td>1.000000</td>\n",
       "      <td>1.000000</td>\n",
       "      <td>1.000000</td>\n",
       "      <td>1.000000</td>\n",
       "      <td>1.000000</td>\n",
       "      <td>1.000000</td>\n",
       "      <td>1.000000</td>\n",
       "      <td>1.000000</td>\n",
       "    </tr>\n",
       "    <tr>\n",
       "      <th>1</th>\n",
       "      <td>1.001234</td>\n",
       "      <td>0.987952</td>\n",
       "      <td>0.990262</td>\n",
       "      <td>0.999513</td>\n",
       "      <td>0.996022</td>\n",
       "      <td>0.996459</td>\n",
       "      <td>0.994024</td>\n",
       "      <td>0.997500</td>\n",
       "      <td>1.008289</td>\n",
       "      <td>0.986494</td>\n",
       "      <td>...</td>\n",
       "      <td>1.002291</td>\n",
       "      <td>0.984887</td>\n",
       "      <td>0.999324</td>\n",
       "      <td>1.017837</td>\n",
       "      <td>1.001319</td>\n",
       "      <td>0.995776</td>\n",
       "      <td>0.994432</td>\n",
       "      <td>0.994803</td>\n",
       "      <td>0.977460</td>\n",
       "      <td>1.002472</td>\n",
       "    </tr>\n",
       "    <tr>\n",
       "      <th>2</th>\n",
       "      <td>1.000532</td>\n",
       "      <td>1.002421</td>\n",
       "      <td>0.995588</td>\n",
       "      <td>0.986723</td>\n",
       "      <td>1.004635</td>\n",
       "      <td>0.986477</td>\n",
       "      <td>1.030565</td>\n",
       "      <td>0.989537</td>\n",
       "      <td>1.007644</td>\n",
       "      <td>0.966556</td>\n",
       "      <td>...</td>\n",
       "      <td>1.017182</td>\n",
       "      <td>0.993550</td>\n",
       "      <td>0.987125</td>\n",
       "      <td>1.007059</td>\n",
       "      <td>1.024656</td>\n",
       "      <td>0.979438</td>\n",
       "      <td>0.987790</td>\n",
       "      <td>0.966538</td>\n",
       "      <td>0.969505</td>\n",
       "      <td>0.993266</td>\n",
       "    </tr>\n",
       "    <tr>\n",
       "      <th>3</th>\n",
       "      <td>1.004508</td>\n",
       "      <td>1.007981</td>\n",
       "      <td>0.956808</td>\n",
       "      <td>0.985141</td>\n",
       "      <td>1.003854</td>\n",
       "      <td>0.991941</td>\n",
       "      <td>1.009460</td>\n",
       "      <td>0.987531</td>\n",
       "      <td>1.017612</td>\n",
       "      <td>0.990301</td>\n",
       "      <td>...</td>\n",
       "      <td>1.016331</td>\n",
       "      <td>0.990746</td>\n",
       "      <td>0.990155</td>\n",
       "      <td>1.020112</td>\n",
       "      <td>1.024992</td>\n",
       "      <td>0.988971</td>\n",
       "      <td>0.977959</td>\n",
       "      <td>0.969503</td>\n",
       "      <td>0.956714</td>\n",
       "      <td>1.001469</td>\n",
       "    </tr>\n",
       "    <tr>\n",
       "      <th>4</th>\n",
       "      <td>1.018533</td>\n",
       "      <td>1.017653</td>\n",
       "      <td>0.959592</td>\n",
       "      <td>0.995254</td>\n",
       "      <td>1.015599</td>\n",
       "      <td>0.998343</td>\n",
       "      <td>1.025333</td>\n",
       "      <td>0.991913</td>\n",
       "      <td>1.018410</td>\n",
       "      <td>0.991864</td>\n",
       "      <td>...</td>\n",
       "      <td>1.005928</td>\n",
       "      <td>0.981482</td>\n",
       "      <td>0.969307</td>\n",
       "      <td>1.024810</td>\n",
       "      <td>1.019126</td>\n",
       "      <td>0.988765</td>\n",
       "      <td>0.974247</td>\n",
       "      <td>0.975020</td>\n",
       "      <td>0.947365</td>\n",
       "      <td>0.986040</td>\n",
       "    </tr>\n",
       "    <tr>\n",
       "      <th>...</th>\n",
       "      <td>...</td>\n",
       "      <td>...</td>\n",
       "      <td>...</td>\n",
       "      <td>...</td>\n",
       "      <td>...</td>\n",
       "      <td>...</td>\n",
       "      <td>...</td>\n",
       "      <td>...</td>\n",
       "      <td>...</td>\n",
       "      <td>...</td>\n",
       "      <td>...</td>\n",
       "      <td>...</td>\n",
       "      <td>...</td>\n",
       "      <td>...</td>\n",
       "      <td>...</td>\n",
       "      <td>...</td>\n",
       "      <td>...</td>\n",
       "      <td>...</td>\n",
       "      <td>...</td>\n",
       "      <td>...</td>\n",
       "      <td>...</td>\n",
       "    </tr>\n",
       "    <tr>\n",
       "      <th>2516</th>\n",
       "      <td>4.909165</td>\n",
       "      <td>2.708685</td>\n",
       "      <td>1.840713</td>\n",
       "      <td>8.619437</td>\n",
       "      <td>6.686786</td>\n",
       "      <td>9.204387</td>\n",
       "      <td>2.315460</td>\n",
       "      <td>2.052722</td>\n",
       "      <td>20.384725</td>\n",
       "      <td>6.728514</td>\n",
       "      <td>...</td>\n",
       "      <td>2.457985</td>\n",
       "      <td>6.691945</td>\n",
       "      <td>8.125581</td>\n",
       "      <td>1.741258</td>\n",
       "      <td>5.884285</td>\n",
       "      <td>11.680475</td>\n",
       "      <td>5.090452</td>\n",
       "      <td>3.445813</td>\n",
       "      <td>2.876703</td>\n",
       "      <td>4.225733</td>\n",
       "    </tr>\n",
       "    <tr>\n",
       "      <th>2517</th>\n",
       "      <td>4.901141</td>\n",
       "      <td>2.753907</td>\n",
       "      <td>1.810436</td>\n",
       "      <td>8.576264</td>\n",
       "      <td>6.524832</td>\n",
       "      <td>9.449137</td>\n",
       "      <td>2.297800</td>\n",
       "      <td>2.045147</td>\n",
       "      <td>20.131801</td>\n",
       "      <td>6.769630</td>\n",
       "      <td>...</td>\n",
       "      <td>2.444009</td>\n",
       "      <td>6.672011</td>\n",
       "      <td>8.095431</td>\n",
       "      <td>1.772200</td>\n",
       "      <td>5.888897</td>\n",
       "      <td>11.682377</td>\n",
       "      <td>5.046316</td>\n",
       "      <td>3.439175</td>\n",
       "      <td>2.895933</td>\n",
       "      <td>4.163314</td>\n",
       "    </tr>\n",
       "    <tr>\n",
       "      <th>2518</th>\n",
       "      <td>4.886550</td>\n",
       "      <td>2.794286</td>\n",
       "      <td>1.776516</td>\n",
       "      <td>8.711105</td>\n",
       "      <td>6.456095</td>\n",
       "      <td>9.581830</td>\n",
       "      <td>2.295954</td>\n",
       "      <td>1.976734</td>\n",
       "      <td>20.324307</td>\n",
       "      <td>6.864481</td>\n",
       "      <td>...</td>\n",
       "      <td>2.456266</td>\n",
       "      <td>6.710689</td>\n",
       "      <td>8.058652</td>\n",
       "      <td>1.758056</td>\n",
       "      <td>5.898470</td>\n",
       "      <td>11.777156</td>\n",
       "      <td>5.089209</td>\n",
       "      <td>3.469476</td>\n",
       "      <td>2.908403</td>\n",
       "      <td>4.135402</td>\n",
       "    </tr>\n",
       "    <tr>\n",
       "      <th>2519</th>\n",
       "      <td>4.915162</td>\n",
       "      <td>2.812399</td>\n",
       "      <td>1.793031</td>\n",
       "      <td>8.745265</td>\n",
       "      <td>6.549869</td>\n",
       "      <td>9.765452</td>\n",
       "      <td>2.302993</td>\n",
       "      <td>1.976527</td>\n",
       "      <td>20.248590</td>\n",
       "      <td>6.911598</td>\n",
       "      <td>...</td>\n",
       "      <td>2.461663</td>\n",
       "      <td>6.637650</td>\n",
       "      <td>8.054039</td>\n",
       "      <td>1.762906</td>\n",
       "      <td>5.872641</td>\n",
       "      <td>11.733837</td>\n",
       "      <td>5.059036</td>\n",
       "      <td>3.420800</td>\n",
       "      <td>2.871539</td>\n",
       "      <td>4.172577</td>\n",
       "    </tr>\n",
       "    <tr>\n",
       "      <th>2520</th>\n",
       "      <td>4.921017</td>\n",
       "      <td>2.812021</td>\n",
       "      <td>1.805633</td>\n",
       "      <td>8.934420</td>\n",
       "      <td>6.709365</td>\n",
       "      <td>9.919470</td>\n",
       "      <td>2.291872</td>\n",
       "      <td>2.000187</td>\n",
       "      <td>20.392719</td>\n",
       "      <td>6.990514</td>\n",
       "      <td>...</td>\n",
       "      <td>2.515686</td>\n",
       "      <td>6.622468</td>\n",
       "      <td>8.053348</td>\n",
       "      <td>1.740985</td>\n",
       "      <td>5.803331</td>\n",
       "      <td>11.799512</td>\n",
       "      <td>5.021311</td>\n",
       "      <td>3.472096</td>\n",
       "      <td>2.801027</td>\n",
       "      <td>4.170009</td>\n",
       "    </tr>\n",
       "  </tbody>\n",
       "</table>\n",
       "<p>2521 rows × 500 columns</p>\n",
       "</div>"
      ],
      "text/plain": [
       "           0         1         2         3         4         5         6    \\\n",
       "0     1.000000  1.000000  1.000000  1.000000  1.000000  1.000000  1.000000   \n",
       "1     1.001234  0.987952  0.990262  0.999513  0.996022  0.996459  0.994024   \n",
       "2     1.000532  1.002421  0.995588  0.986723  1.004635  0.986477  1.030565   \n",
       "3     1.004508  1.007981  0.956808  0.985141  1.003854  0.991941  1.009460   \n",
       "4     1.018533  1.017653  0.959592  0.995254  1.015599  0.998343  1.025333   \n",
       "...        ...       ...       ...       ...       ...       ...       ...   \n",
       "2516  4.909165  2.708685  1.840713  8.619437  6.686786  9.204387  2.315460   \n",
       "2517  4.901141  2.753907  1.810436  8.576264  6.524832  9.449137  2.297800   \n",
       "2518  4.886550  2.794286  1.776516  8.711105  6.456095  9.581830  2.295954   \n",
       "2519  4.915162  2.812399  1.793031  8.745265  6.549869  9.765452  2.302993   \n",
       "2520  4.921017  2.812021  1.805633  8.934420  6.709365  9.919470  2.291872   \n",
       "\n",
       "           7          8         9    ...       490       491       492  \\\n",
       "0     1.000000   1.000000  1.000000  ...  1.000000  1.000000  1.000000   \n",
       "1     0.997500   1.008289  0.986494  ...  1.002291  0.984887  0.999324   \n",
       "2     0.989537   1.007644  0.966556  ...  1.017182  0.993550  0.987125   \n",
       "3     0.987531   1.017612  0.990301  ...  1.016331  0.990746  0.990155   \n",
       "4     0.991913   1.018410  0.991864  ...  1.005928  0.981482  0.969307   \n",
       "...        ...        ...       ...  ...       ...       ...       ...   \n",
       "2516  2.052722  20.384725  6.728514  ...  2.457985  6.691945  8.125581   \n",
       "2517  2.045147  20.131801  6.769630  ...  2.444009  6.672011  8.095431   \n",
       "2518  1.976734  20.324307  6.864481  ...  2.456266  6.710689  8.058652   \n",
       "2519  1.976527  20.248590  6.911598  ...  2.461663  6.637650  8.054039   \n",
       "2520  2.000187  20.392719  6.990514  ...  2.515686  6.622468  8.053348   \n",
       "\n",
       "           493       494        495       496       497       498       499  \n",
       "0     1.000000  1.000000   1.000000  1.000000  1.000000  1.000000  1.000000  \n",
       "1     1.017837  1.001319   0.995776  0.994432  0.994803  0.977460  1.002472  \n",
       "2     1.007059  1.024656   0.979438  0.987790  0.966538  0.969505  0.993266  \n",
       "3     1.020112  1.024992   0.988971  0.977959  0.969503  0.956714  1.001469  \n",
       "4     1.024810  1.019126   0.988765  0.974247  0.975020  0.947365  0.986040  \n",
       "...        ...       ...        ...       ...       ...       ...       ...  \n",
       "2516  1.741258  5.884285  11.680475  5.090452  3.445813  2.876703  4.225733  \n",
       "2517  1.772200  5.888897  11.682377  5.046316  3.439175  2.895933  4.163314  \n",
       "2518  1.758056  5.898470  11.777156  5.089209  3.469476  2.908403  4.135402  \n",
       "2519  1.762906  5.872641  11.733837  5.059036  3.420800  2.871539  4.172577  \n",
       "2520  1.740985  5.803331  11.799512  5.021311  3.472096  2.801027  4.170009  \n",
       "\n",
       "[2521 rows x 500 columns]"
      ]
     },
     "execution_count": 51,
     "metadata": {},
     "output_type": "execute_result"
    }
   ],
   "source": [
    "# Run the Monte Carlo simulation to forecast 10 years cumulative returns\n",
    "ten_year_simulation.calc_cumulative_return()\n"
   ]
  },
  {
   "cell_type": "code",
   "execution_count": 52,
   "metadata": {},
   "outputs": [
    {
     "data": {
      "text/plain": [
       "<AxesSubplot:title={'center':'500 Simulations of Cumulative Portfolio Return Trajectories Over the Next 2520 Trading Days.'}>"
      ]
     },
     "execution_count": 52,
     "metadata": {},
     "output_type": "execute_result"
    },
    {
     "data": {
      "image/png": "[encoded data removed]",
      "text/plain": [
       "<Figure size 432x288 with 1 Axes>"
      ]
     },
     "metadata": {
      "needs_background": "light"
     },
     "output_type": "display_data"
    }
   ],
   "source": [
    "# Visualize the 10-year Monte Carlo simulation by creating an\n",
    "# overlay line plot\n",
    "ten_year_simulation.plot_simulation()\n"
   ]
  },
  {
   "cell_type": "code",
   "execution_count": 53,
   "metadata": {},
   "outputs": [
    {
     "data": {
      "text/plain": [
       "<AxesSubplot:title={'center':'Distribution of Final Cumuluative Returns Across All 500 Simulations'}, ylabel='Frequency'>"
      ]
     },
     "execution_count": 53,
     "metadata": {},
     "output_type": "execute_result"
    },
    {
     "data": {
      "image/png": "[encoded data removed]",
      "text/plain": [
       "<Figure size 432x288 with 1 Axes>"
      ]
     },
     "metadata": {
      "needs_background": "light"
     },
     "output_type": "display_data"
    }
   ],
   "source": [
    "# Visualize the probability distribution of the 10-year Monte Carlo simulation \n",
    "# by plotting a histogram\n",
    "ten_year_simulation.plot_distribution()\n"
   ]
  },
  {
   "cell_type": "code",
   "execution_count": 54,
   "metadata": {},
   "outputs": [
    {
     "name": "stdout",
     "output_type": "stream",
     "text": [
      "count           500.000000\n",
      "mean              6.372132\n",
      "std               3.926513\n",
      "min               1.035623\n",
      "25%               3.645471\n",
      "50%               5.224784\n",
      "75%               7.767982\n",
      "max              26.598766\n",
      "95% CI Lower      1.934784\n",
      "95% CI Upper     17.174033\n",
      "Name: 2520, dtype: float64\n"
     ]
    }
   ],
   "source": [
    "# Generate summary statistics from the 10-year Monte Carlo simulation results\n",
    "# Save the results as a variable\n",
    "ten_yr_summary_statistics = ten_year_simulation.summarize_cumulative_return()\n",
    "\n",
    "\n",
    "# Review the 30-year Monte Carlo summary statistics\n",
    "print(ten_yr_summary_statistics)\n"
   ]
  },
  {
   "cell_type": "markdown",
   "metadata": {},
   "source": [
    "### Answer the following questions:"
   ]
  },
  {
   "cell_type": "markdown",
   "metadata": {},
   "source": [
    "#### Question: Using the current value of only the stock and bond portion of the member's portfolio and the summary statistics that you generated from the new Monte Carlo simulation, what are the lower and upper bounds for the expected value of the portfolio (with the new weights) with a 95% confidence interval?"
   ]
  },
  {
   "cell_type": "code",
   "execution_count": 55,
   "metadata": {},
   "outputs": [
    {
     "name": "stdout",
     "output_type": "stream",
     "text": [
      "The current balance is:75184.1\n"
     ]
    }
   ],
   "source": [
    "# Print the current balance of the stock and bond portion of the members portfolio\n",
    "print(f\"The current balance is:{total_stocks_bonds}\")\n"
   ]
  },
  {
   "cell_type": "code",
   "execution_count": 56,
   "metadata": {},
   "outputs": [
    {
     "name": "stdout",
     "output_type": "stream",
     "text": [
      "There is a 95% chance that an initial investment of 75184.1 in the portfolio over the next 10 years will end within in the range of $ 145465.02 and $ 1291214.23.\n"
     ]
    }
   ],
   "source": [
    "# Use the lower and upper `95%` confidence intervals to calculate the range of the possible outcomes for the current stock/bond portfolio\n",
    "ci_lower_ten_cumulative_return = ten_yr_summary_statistics[8] * total_stocks_bonds\n",
    "ci_upper_ten_cumulative_return = ten_yr_summary_statistics[9] * total_stocks_bonds\n",
    "\n",
    "# Print the result of your calculations\n",
    "print(f\"There is a 95% chance that an initial investment of {total_stocks_bonds} in the portfolio\"\n",
    "  f\" over the next 10 years will end within in the range of\"\n",
    "  f\" ${ci_lower_ten_cumulative_return: .2f} and ${ci_upper_ten_cumulative_return: .2f}.\")\n",
    "\n",
    "\n"
   ]
  },
  {
   "cell_type": "markdown",
   "metadata": {},
   "source": [
    "#### Question: Will weighting the portfolio more heavily to stocks allow the credit union members to retire after only 10 years?"
   ]
  },
  {
   "cell_type": "raw",
   "metadata": {},
   "source": [
    "Based on the client goals, the stock heavy portfolio may allow retirement after 10 years. However, the 30 yr timeframe will provide much higher returns upto 16M USD."
   ]
  },
  {
   "cell_type": "code",
   "execution_count": null,
   "metadata": {},
   "outputs": [],
   "source": []
  }
 ],
 "metadata": {
  "kernelspec": {
   "display_name": "Python 3 (ipykernel)",
   "language": "python",
   "name": "python3"
  },
  "language_info": {
   "codemirror_mode": {
    "name": "ipython",
    "version": 3
   },
   "file_extension": ".py",
   "mimetype": "text/x-python",
   "name": "python",
   "nbconvert_exporter": "python",
   "pygments_lexer": "ipython3",
   "version": "3.7.11"
  }
 },
 "nbformat": 4,
 "nbformat_minor": 4
}
